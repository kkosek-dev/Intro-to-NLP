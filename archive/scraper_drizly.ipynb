{
 "cells": [
  {
   "cell_type": "code",
   "execution_count": 37,
   "id": "4fc572e2",
   "metadata": {},
   "outputs": [],
   "source": [
    "import selenium\n",
    "import splinter\n",
    "from splinter import Browser\n",
    "from bs4 import BeautifulSoup\n",
    "from pprint import pprint\n",
    "import json\n",
    "from selenium.webdriver.common.keys import Keys"
   ]
  },
  {
   "cell_type": "code",
   "execution_count": 134,
   "id": "6eded8f4",
   "metadata": {},
   "outputs": [],
   "source": [
    "browser = Browser('chrome')"
   ]
  },
  {
   "cell_type": "code",
   "execution_count": 135,
   "id": "ba3a4350",
   "metadata": {},
   "outputs": [],
   "source": [
    "website = 'https://drizly.com/wine/red-wine/cabernet-sauvignon/josh-cellars-cabernet-sauvignon/p20877'\n",
    "browser.visit(website)"
   ]
  },
  {
   "cell_type": "code",
   "execution_count": 136,
   "id": "f4e415bd",
   "metadata": {},
   "outputs": [],
   "source": [
    "browser.find_by_id('onetrust-accept-btn-handler').click()\n",
    "browser.is_text_present('cabernet', wait_time=2)\n",
    "browser.find_by_text('YES').click()\n",
    "browser.is_text_present('cabernet', wait_time=3)\n",
    "browser.find_by_text('See All').click()\n",
    "html = browser.html\n",
    "soup = BeautifulSoup(html,\"html.parser\")"
   ]
  },
  {
   "cell_type": "code",
   "execution_count": 137,
   "id": "3011d92b",
   "metadata": {},
   "outputs": [
    {
     "name": "stdout",
     "output_type": "stream",
     "text": [
      "This arrived and as expected\n",
      "Um…. No just… no. \n",
      "Malbec fan overall so maybe take this with a grain of salt. I like cabs if they are hearty. This was lighter. sweet/syrupy. Something was off and I couldn’t figure out what. Nothing ventured nothing gained I guess but will pick something else next time. \n",
      "This is a nice affordable wine and it was good \n",
      "Excellent! \n",
      "Great wine. Smooth. Full flavor.\n",
      "\n",
      "SLOW \n",
      "haven’t had yet. but it will be good as always \n",
      "A great Cab!!\n",
      "Haven’t drank it yet. \n"
     ]
    }
   ],
   "source": [
    "reviews = soup.find_all('article', class_='HxFhk2H5CBwfJyan7FBc')\n",
    "\n",
    "for i in reviews:\n",
    "    review = i.find('p', class_='mwGBjfDJ7Hr6khHqLiew K0XYq675qopAqROJ7hS_').text\n",
    "    print(review)"
   ]
  },
  {
   "cell_type": "code",
   "execution_count": 52,
   "id": "06020bc8",
   "metadata": {},
   "outputs": [
    {
     "name": "stdout",
     "output_type": "stream",
     "text": [
      "Cookie value: __cf_bm=tlX3aoab5HLJ0tFOrdESWdOA3YPTLIbXOMOQoS_kZew-1708642759-1.0-AY0Pyshe+5Hny4500hm8U+5/6bCRSDePbDSLHI2djAV6BE0G54tVcGQZ1f+5cFJQmw==; path=/; expires=Thu, 22-Feb-24 23:29:19 GMT; domain=.drizly.com; HttpOnly; Secure; SameSite=None\n"
     ]
    }
   ],
   "source": [
    "import requests\n",
    "\n",
    "# Send a GET request to the website\n",
    "response = requests.get(website)\n",
    "\n",
    "# Check if the response contains any Set-Cookie headers\n",
    "if 'Set-Cookie' in response.headers:\n",
    "    # Get the value of the Set-Cookie header\n",
    "    cookie_value = response.headers['Set-Cookie']\n",
    "    print(\"Cookie value:\", cookie_value)\n",
    "else:\n",
    "    print(\"No cookies set in the response.\")\n"
   ]
  },
  {
   "cell_type": "code",
   "execution_count": 53,
   "id": "ecf8d65b",
   "metadata": {},
   "outputs": [],
   "source": [
    "browser.cookies.add({'cookie':'__cf_bm=tlX3aoab5HLJ0tFOrdESWdOA3YPTLIbXOMOQoS_kZew-1708642759-1.0-AY0Pyshe+5Hny4500hm8U+5/6bCRSDePbDSLHI2djAV6BE0G54tVcGQZ1f+5cFJQmw=='})\n"
   ]
  },
  {
   "cell_type": "code",
   "execution_count": 86,
   "id": "8c182c41",
   "metadata": {},
   "outputs": [],
   "source": [
    "browser.reload()"
   ]
  },
  {
   "cell_type": "code",
   "execution_count": 64,
   "id": "fb555474",
   "metadata": {},
   "outputs": [],
   "source": []
  },
  {
   "cell_type": "code",
   "execution_count": 36,
   "id": "2bca993c",
   "metadata": {},
   "outputs": [
    {
     "data": {
      "text/plain": [
       "<Window 3A26E5CDBEFCC2E8BC5246E5E8D2B58A: https://drizly.com/wine/red-wine/cabernet-sauvignon/josh-cellars-cabernet-sauvignon/p20877>"
      ]
     },
     "execution_count": 36,
     "metadata": {},
     "output_type": "execute_result"
    }
   ],
   "source": [
    "browser.windows[0]\n"
   ]
  },
  {
   "cell_type": "code",
   "execution_count": 114,
   "id": "b8e357b1",
   "metadata": {},
   "outputs": [
    {
     "data": {
      "text/plain": [
       "<button class=\"Zfr0kwmOQpjpbDZjpR4l\">See All</button>"
      ]
     },
     "execution_count": 114,
     "metadata": {},
     "output_type": "execute_result"
    }
   ],
   "source": [
    "buttons_list = soup.find_all('button')\n",
    "#buttons.click()\n",
    "#for i in buttons_list:\n",
    "#    i.find('button')\n",
    "buttons_list[31]"
   ]
  },
  {
   "cell_type": "code",
   "execution_count": 115,
   "id": "ca2ea7a0",
   "metadata": {},
   "outputs": [
    {
     "name": "stdout",
     "output_type": "stream",
     "text": [
      "64\n",
      "64\n"
     ]
    }
   ],
   "source": [
    "print(len(buttons_list))\n",
    "print(len(browser.find_by_tag('button')))"
   ]
  },
  {
   "cell_type": "code",
   "execution_count": 112,
   "id": "2ee43592",
   "metadata": {},
   "outputs": [],
   "source": [
    "browser.find_by_id('onetrust-accept-btn-handler').click()"
   ]
  },
  {
   "cell_type": "code",
   "execution_count": 117,
   "id": "012136fd",
   "metadata": {},
   "outputs": [],
   "source": [
    "browser.find_by_text('YES').click()"
   ]
  },
  {
   "cell_type": "code",
   "execution_count": 119,
   "id": "6a54bcfd",
   "metadata": {},
   "outputs": [],
   "source": [
    "browser.find_by_text('See All').click()"
   ]
  },
  {
   "cell_type": "code",
   "execution_count": 120,
   "id": "29bb1369",
   "metadata": {},
   "outputs": [],
   "source": [
    "html = browser.html"
   ]
  },
  {
   "cell_type": "code",
   "execution_count": 121,
   "id": "2860467c",
   "metadata": {},
   "outputs": [],
   "source": [
    "soup = BeautifulSoup(html,\"html.parser\")"
   ]
  },
  {
   "cell_type": "code",
   "execution_count": 124,
   "id": "a2f51bdf",
   "metadata": {},
   "outputs": [
    {
     "name": "stdout",
     "output_type": "stream",
     "text": [
      "This arrived and as expected\n",
      "Um…. No just… no. \n",
      "Malbec fan overall so maybe take this with a grain of salt. I like cabs if they are hearty. This was lighter. sweet/syrupy. Something was off and I couldn’t figure out what. Nothing ventured nothing gained I guess but will pick something else next time. \n",
      "This is a nice affordable wine and it was good \n",
      "Excellent! \n",
      "Great wine. Smooth. Full flavor.\n",
      "\n",
      "SLOW \n",
      "haven’t had yet. but it will be good as always \n",
      "A great Cab!!\n",
      "Haven’t drank it yet. \n"
     ]
    }
   ],
   "source": [
    "reviews = soup.find_all('article', class_='HxFhk2H5CBwfJyan7FBc')\n",
    "\n",
    "for i in reviews:\n",
    "    review = i.find('p', class_='mwGBjfDJ7Hr6khHqLiew K0XYq675qopAqROJ7hS_').text\n",
    "    print(review)"
   ]
  },
  {
   "cell_type": "code",
   "execution_count": null,
   "id": "c7afd3b2",
   "metadata": {},
   "outputs": [],
   "source": []
  },
  {
   "cell_type": "code",
   "execution_count": 92,
   "id": "35f8f152",
   "metadata": {},
   "outputs": [],
   "source": [
    "buttons = browser.find_by_tag('button')"
   ]
  },
  {
   "cell_type": "code",
   "execution_count": 96,
   "id": "cf20e36e",
   "metadata": {},
   "outputs": [
    {
     "data": {
      "text/plain": [
       "<splinter.driver.webdriver.WebDriverElement at 0x2243283b5d0>"
      ]
     },
     "execution_count": 96,
     "metadata": {},
     "output_type": "execute_result"
    }
   ],
   "source": [
    "buttons[33]"
   ]
  },
  {
   "cell_type": "code",
   "execution_count": 97,
   "id": "e0543c26",
   "metadata": {},
   "outputs": [
    {
     "ename": "ElementNotInteractableException",
     "evalue": "Message: element not interactable\n  (Session info: chrome=122.0.6261.69)\nStacktrace:\n\tGetHandleVerifier [0x00007FF710084C82+3505170]\n\t(No symbol) [0x00007FF70FCB0852]\n\t(No symbol) [0x00007FF70FB63FFD]\n\t(No symbol) [0x00007FF70FBAAE92]\n\t(No symbol) [0x00007FF70FB9F978]\n\t(No symbol) [0x00007FF70FBCBE8A]\n\t(No symbol) [0x00007FF70FB9F27A]\n\t(No symbol) [0x00007FF70FBCC0A0]\n\t(No symbol) [0x00007FF70FBE83B2]\n\t(No symbol) [0x00007FF70FBCBC33]\n\t(No symbol) [0x00007FF70FB9D618]\n\t(No symbol) [0x00007FF70FB9E6B1]\n\tGetHandleVerifier [0x00007FF7100B67DD+3708781]\n\tGetHandleVerifier [0x00007FF71010FC5D+4074477]\n\tGetHandleVerifier [0x00007FF710107DDF+4042095]\n\tGetHandleVerifier [0x00007FF70FDDA136+708806]\n\t(No symbol) [0x00007FF70FCBCB0F]\n\t(No symbol) [0x00007FF70FCB7D14]\n\t(No symbol) [0x00007FF70FCB7E6C]\n\t(No symbol) [0x00007FF70FCA79A4]\n\tBaseThreadInitThunk [0x00007FFB6FE2257D+29]\n\tRtlUserThreadStart [0x00007FFB7056AA58+40]\n",
     "output_type": "error",
     "traceback": [
      "\u001b[1;31m---------------------------------------------------------------------------\u001b[0m",
      "\u001b[1;31mElementNotInteractableException\u001b[0m           Traceback (most recent call last)",
      "Cell \u001b[1;32mIn[97], line 2\u001b[0m\n\u001b[0;32m      1\u001b[0m buttons \u001b[38;5;241m=\u001b[39m browser\u001b[38;5;241m.\u001b[39mfind_by_tag(\u001b[38;5;124m'\u001b[39m\u001b[38;5;124mbutton\u001b[39m\u001b[38;5;124m'\u001b[39m)\n\u001b[1;32m----> 2\u001b[0m buttons[\u001b[38;5;241m33\u001b[39m]\u001b[38;5;241m.\u001b[39mclick()\n\u001b[0;32m      3\u001b[0m html \u001b[38;5;241m=\u001b[39m browser\u001b[38;5;241m.\u001b[39mhtml\n",
      "File \u001b[1;32m~\\anaconda3\\envs\\bootcampDev\\Lib\\site-packages\\splinter\\driver\\webdriver\\__init__.py:803\u001b[0m, in \u001b[0;36mWebDriverElement.click\u001b[1;34m(self)\u001b[0m\n\u001b[0;32m    797\u001b[0m     \u001b[38;5;28;01mexcept\u001b[39;00m (\n\u001b[0;32m    798\u001b[0m         ElementClickInterceptedException,\n\u001b[0;32m    799\u001b[0m         WebDriverException,\n\u001b[0;32m    800\u001b[0m     ) \u001b[38;5;28;01mas\u001b[39;00m e:\n\u001b[0;32m    801\u001b[0m         error \u001b[38;5;241m=\u001b[39m e\n\u001b[1;32m--> 803\u001b[0m \u001b[38;5;28;01mraise\u001b[39;00m error\n",
      "File \u001b[1;32m~\\anaconda3\\envs\\bootcampDev\\Lib\\site-packages\\splinter\\driver\\webdriver\\__init__.py:796\u001b[0m, in \u001b[0;36mWebDriverElement.click\u001b[1;34m(self)\u001b[0m\n\u001b[0;32m    794\u001b[0m \u001b[38;5;28;01mwhile\u001b[39;00m time\u001b[38;5;241m.\u001b[39mtime() \u001b[38;5;241m<\u001b[39m end_time:\n\u001b[0;32m    795\u001b[0m     \u001b[38;5;28;01mtry\u001b[39;00m:\n\u001b[1;32m--> 796\u001b[0m         \u001b[38;5;28;01mreturn\u001b[39;00m \u001b[38;5;28mself\u001b[39m\u001b[38;5;241m.\u001b[39m_element\u001b[38;5;241m.\u001b[39mclick()\n\u001b[0;32m    797\u001b[0m     \u001b[38;5;28;01mexcept\u001b[39;00m (\n\u001b[0;32m    798\u001b[0m         ElementClickInterceptedException,\n\u001b[0;32m    799\u001b[0m         WebDriverException,\n\u001b[0;32m    800\u001b[0m     ) \u001b[38;5;28;01mas\u001b[39;00m e:\n\u001b[0;32m    801\u001b[0m         error \u001b[38;5;241m=\u001b[39m e\n",
      "File \u001b[1;32m~\\anaconda3\\envs\\bootcampDev\\Lib\\site-packages\\selenium\\webdriver\\remote\\webelement.py:94\u001b[0m, in \u001b[0;36mWebElement.click\u001b[1;34m(self)\u001b[0m\n\u001b[0;32m     92\u001b[0m \u001b[38;5;28;01mdef\u001b[39;00m \u001b[38;5;21mclick\u001b[39m(\u001b[38;5;28mself\u001b[39m) \u001b[38;5;241m-\u001b[39m\u001b[38;5;241m>\u001b[39m \u001b[38;5;28;01mNone\u001b[39;00m:\n\u001b[0;32m     93\u001b[0m \u001b[38;5;250m    \u001b[39m\u001b[38;5;124;03m\"\"\"Clicks the element.\"\"\"\u001b[39;00m\n\u001b[1;32m---> 94\u001b[0m     \u001b[38;5;28mself\u001b[39m\u001b[38;5;241m.\u001b[39m_execute(Command\u001b[38;5;241m.\u001b[39mCLICK_ELEMENT)\n",
      "File \u001b[1;32m~\\anaconda3\\envs\\bootcampDev\\Lib\\site-packages\\selenium\\webdriver\\remote\\webelement.py:395\u001b[0m, in \u001b[0;36mWebElement._execute\u001b[1;34m(self, command, params)\u001b[0m\n\u001b[0;32m    393\u001b[0m     params \u001b[38;5;241m=\u001b[39m {}\n\u001b[0;32m    394\u001b[0m params[\u001b[38;5;124m\"\u001b[39m\u001b[38;5;124mid\u001b[39m\u001b[38;5;124m\"\u001b[39m] \u001b[38;5;241m=\u001b[39m \u001b[38;5;28mself\u001b[39m\u001b[38;5;241m.\u001b[39m_id\n\u001b[1;32m--> 395\u001b[0m \u001b[38;5;28;01mreturn\u001b[39;00m \u001b[38;5;28mself\u001b[39m\u001b[38;5;241m.\u001b[39m_parent\u001b[38;5;241m.\u001b[39mexecute(command, params)\n",
      "File \u001b[1;32m~\\anaconda3\\envs\\bootcampDev\\Lib\\site-packages\\selenium\\webdriver\\remote\\webdriver.py:347\u001b[0m, in \u001b[0;36mWebDriver.execute\u001b[1;34m(self, driver_command, params)\u001b[0m\n\u001b[0;32m    345\u001b[0m response \u001b[38;5;241m=\u001b[39m \u001b[38;5;28mself\u001b[39m\u001b[38;5;241m.\u001b[39mcommand_executor\u001b[38;5;241m.\u001b[39mexecute(driver_command, params)\n\u001b[0;32m    346\u001b[0m \u001b[38;5;28;01mif\u001b[39;00m response:\n\u001b[1;32m--> 347\u001b[0m     \u001b[38;5;28mself\u001b[39m\u001b[38;5;241m.\u001b[39merror_handler\u001b[38;5;241m.\u001b[39mcheck_response(response)\n\u001b[0;32m    348\u001b[0m     response[\u001b[38;5;124m\"\u001b[39m\u001b[38;5;124mvalue\u001b[39m\u001b[38;5;124m\"\u001b[39m] \u001b[38;5;241m=\u001b[39m \u001b[38;5;28mself\u001b[39m\u001b[38;5;241m.\u001b[39m_unwrap_value(response\u001b[38;5;241m.\u001b[39mget(\u001b[38;5;124m\"\u001b[39m\u001b[38;5;124mvalue\u001b[39m\u001b[38;5;124m\"\u001b[39m, \u001b[38;5;28;01mNone\u001b[39;00m))\n\u001b[0;32m    349\u001b[0m     \u001b[38;5;28;01mreturn\u001b[39;00m response\n",
      "File \u001b[1;32m~\\anaconda3\\envs\\bootcampDev\\Lib\\site-packages\\selenium\\webdriver\\remote\\errorhandler.py:229\u001b[0m, in \u001b[0;36mErrorHandler.check_response\u001b[1;34m(self, response)\u001b[0m\n\u001b[0;32m    227\u001b[0m         alert_text \u001b[38;5;241m=\u001b[39m value[\u001b[38;5;124m\"\u001b[39m\u001b[38;5;124malert\u001b[39m\u001b[38;5;124m\"\u001b[39m]\u001b[38;5;241m.\u001b[39mget(\u001b[38;5;124m\"\u001b[39m\u001b[38;5;124mtext\u001b[39m\u001b[38;5;124m\"\u001b[39m)\n\u001b[0;32m    228\u001b[0m     \u001b[38;5;28;01mraise\u001b[39;00m exception_class(message, screen, stacktrace, alert_text)  \u001b[38;5;66;03m# type: ignore[call-arg]  # mypy is not smart enough here\u001b[39;00m\n\u001b[1;32m--> 229\u001b[0m \u001b[38;5;28;01mraise\u001b[39;00m exception_class(message, screen, stacktrace)\n",
      "\u001b[1;31mElementNotInteractableException\u001b[0m: Message: element not interactable\n  (Session info: chrome=122.0.6261.69)\nStacktrace:\n\tGetHandleVerifier [0x00007FF710084C82+3505170]\n\t(No symbol) [0x00007FF70FCB0852]\n\t(No symbol) [0x00007FF70FB63FFD]\n\t(No symbol) [0x00007FF70FBAAE92]\n\t(No symbol) [0x00007FF70FB9F978]\n\t(No symbol) [0x00007FF70FBCBE8A]\n\t(No symbol) [0x00007FF70FB9F27A]\n\t(No symbol) [0x00007FF70FBCC0A0]\n\t(No symbol) [0x00007FF70FBE83B2]\n\t(No symbol) [0x00007FF70FBCBC33]\n\t(No symbol) [0x00007FF70FB9D618]\n\t(No symbol) [0x00007FF70FB9E6B1]\n\tGetHandleVerifier [0x00007FF7100B67DD+3708781]\n\tGetHandleVerifier [0x00007FF71010FC5D+4074477]\n\tGetHandleVerifier [0x00007FF710107DDF+4042095]\n\tGetHandleVerifier [0x00007FF70FDDA136+708806]\n\t(No symbol) [0x00007FF70FCBCB0F]\n\t(No symbol) [0x00007FF70FCB7D14]\n\t(No symbol) [0x00007FF70FCB7E6C]\n\t(No symbol) [0x00007FF70FCA79A4]\n\tBaseThreadInitThunk [0x00007FFB6FE2257D+29]\n\tRtlUserThreadStart [0x00007FFB7056AA58+40]\n"
     ]
    }
   ],
   "source": [
    "buttons = browser.find_by_tag('button')\n",
    "buttons[].click()\n",
    "html = browser.html"
   ]
  },
  {
   "cell_type": "code",
   "execution_count": 22,
   "id": "bc64cb52",
   "metadata": {},
   "outputs": [
    {
     "data": {
      "text/plain": [
       "[<p class=\"VtOyT4CLE5zh_fclHvd_\">Shop by occasion</p>,\n",
       " <p class=\"VtOyT4CLE5zh_fclHvd_\">Trending</p>,\n",
       " <p class=\"Lxdl6uJVKKuwSxxRYvUG\">Save on delivery with Uber One</p>,\n",
       " <p>Last bought: 4 minutes ago</p>,\n",
       " <p>Best Seller</p>,\n",
       " <p class=\"EUbe6FEADlnlqcZnY43s\">Bottle</p>,\n",
       " <p class=\"EUbe6FEADlnlqcZnY43s\">Bottle</p>,\n",
       " <p class=\"EUbe6FEADlnlqcZnY43s\">Bottle</p>,\n",
       " <p class=\"EUbe6FEADlnlqcZnY43s\">Bottle</p>,\n",
       " <p class=\"Lxdl6uJVKKuwSxxRYvUG\">Save on delivery with Uber One</p>,\n",
       " <p class=\"nh8bg0nduSaji2tytbMq\">1</p>,\n",
       " <p class=\"g4stNEuC7iBkrzKInLdD\">$17.59</p>,\n",
       " <p class=\"AU3_J2S61MQzohobRI2x\">7-Eleven - Monroe Rd</p>,\n",
       " <p>$19 store minimum + $4.99 Delivery Fee</p>,\n",
       " <p>60 min</p>,\n",
       " <p class=\"g4stNEuC7iBkrzKInLdD\">$13.49</p>,\n",
       " <p class=\"AU3_J2S61MQzohobRI2x\">Total Wine &amp; More - Park Towne Village</p>,\n",
       " <p>$24.99 store minimum + $4.99 Delivery Fee</p>,\n",
       " <p>60 min</p>,\n",
       " <p class=\"g4stNEuC7iBkrzKInLdD\">$18.49</p>,\n",
       " <p class=\"AU3_J2S61MQzohobRI2x\">Gopuff Liquor &amp; More - Charlotte Center City</p>,\n",
       " <p>$14.95 store minimum + $4.99 Delivery Fee</p>,\n",
       " <p>60 min</p>,\n",
       " <p>Great gifter</p>,\n",
       " <p class=\"g4stNEuC7iBkrzKInLdD\">$12.99</p>,\n",
       " <p class=\"AU3_J2S61MQzohobRI2x\">Overstreet Market</p>,\n",
       " <p>$24.99 store minimum + $4.99 Delivery Fee</p>,\n",
       " <p>60 min</p>,\n",
       " <p class=\"ntwBXuJlqTHuEdlSqhOv\">Big &amp; Bold Cabernet Sauvignon</p>,\n",
       " <p class=\"yjyfagYmqwkTH8lhSkBD\">Body</p>,\n",
       " <p class=\"TFXnB961JYkG5fzhCaKw\">Light</p>,\n",
       " <p class=\"TFXnB961JYkG5fzhCaKw\">Medium</p>,\n",
       " <p class=\"TFXnB961JYkG5fzhCaKw\">Full</p>,\n",
       " <p class=\"yjyfagYmqwkTH8lhSkBD\">Sweet-Dry Scale</p>,\n",
       " <p class=\"TFXnB961JYkG5fzhCaKw\">Dry</p>,\n",
       " <p class=\"TFXnB961JYkG5fzhCaKw\">Semi-Sweet / Off-Dry</p>,\n",
       " <p class=\"TFXnB961JYkG5fzhCaKw\">Sweet</p>,\n",
       " <p class=\"jbgivzMwkrlQexnOM3uS\">Tasting Notes</p>,\n",
       " <p class=\"alSmgDmTwH_xZFIPmgHh\">Cherry</p>,\n",
       " <p class=\"alSmgDmTwH_xZFIPmgHh\">Dark Fruit</p>,\n",
       " <p class=\"alSmgDmTwH_xZFIPmgHh\">Vanilla</p>,\n",
       " <p class=\"alSmgDmTwH_xZFIPmgHh\">Berry</p>,\n",
       " <p class=\"alSmgDmTwH_xZFIPmgHh\">Cinnamon</p>,\n",
       " <p class=\"alSmgDmTwH_xZFIPmgHh\">Oak</p>,\n",
       " <p class=\"SrAhCiD1CdEKWHDZdanz\">ABV</p>,\n",
       " <p class=\"hcIwDM9w6eU3rOs6KwNX\">13.5%</p>,\n",
       " <p class=\"SrAhCiD1CdEKWHDZdanz\">Food Pairing</p>,\n",
       " <p class=\"hcIwDM9w6eU3rOs6KwNX\">Beef, Dessert - Chocolate &amp; Coffee</p>,\n",
       " <p class=\"mwGBjfDJ7Hr6khHqLiew\">Our Cabernet Sauvignon was the first wine we made. This is the wine that started it all, setting the exacting standards that we hold ourselves to for all of our varietals. Round and juicy, our Cabernet Sauvignon has flavors of blackberry, toasted hazelnut and cinnamon, complemented by hints of vanilla and toasted oak.  We love pairing this wine with well-seasoned meats like beef, pork, or lamb, and indulgent chocolate desserts. Our Cabernet Sauvignon was the first wine we made. This is the wine that started it all, setting the exacting standards that we hold ourselves to for all of our varietals. The nose bursts with aromas of intense dark fruits, cinnamon, clove, and subtle oak aromas. The palate is dominated by flavors of black cherries and blackberries, accented by vanilla and toasty oak and finishing long with round, soft tannins.</p>,\n",
       " <p class=\"o917G4HMSrvtUOWHCoWm\">Is Josh Cellars Cabernet Sauvignon dry?</p>,\n",
       " <p class=\"o917G4HMSrvtUOWHCoWm\">Is Josh Cellars a good wine?</p>,\n",
       " <p class=\"o917G4HMSrvtUOWHCoWm\">Where is Josh Cellars wine made?</p>,\n",
       " <p class=\"o917G4HMSrvtUOWHCoWm\">What makes Josh Cellars Cabernet Sauvignon a good gift?</p>,\n",
       " <p class=\"EUbe6FEADlnlqcZnY43s\">Bottle</p>,\n",
       " <p class=\"EUbe6FEADlnlqcZnY43s\">Bottle</p>,\n",
       " <p class=\"Lxdl6uJVKKuwSxxRYvUG\">Save on delivery with Uber One</p>,\n",
       " <p class=\"nh8bg0nduSaji2tytbMq\">1</p>,\n",
       " <p class=\"g4stNEuC7iBkrzKInLdD\">$17.59</p>,\n",
       " <p class=\"AU3_J2S61MQzohobRI2x\">7-Eleven - Monroe Rd</p>,\n",
       " <p>$19 store minimum + $4.99 Delivery Fee</p>,\n",
       " <p>60 min</p>,\n",
       " <p class=\"g4stNEuC7iBkrzKInLdD\">$13.49</p>,\n",
       " <p class=\"AU3_J2S61MQzohobRI2x\">Total Wine &amp; More - Park Towne Village</p>,\n",
       " <p>$24.99 store minimum + $4.99 Delivery Fee</p>,\n",
       " <p>60 min</p>,\n",
       " <p class=\"pEwyF38q03jpALhak_2x\"><div class=\"kKce5yu1L373dkAr651p\"><svg class=\"pdp_app_page-204 pdp_app_page-205 cwAFTmbQXzo6GxYB1yHA\" role=\"img\" viewbox=\"0 0 20 20\" xmlns=\"http://www.w3.org/2000/svg\"><title>Gift Icon</title><g clip-path=\"url(#a)\"><path clip-rule=\"evenodd\" d=\"m13.936.06.204.979c-.204-.98-.204-.979-.205-.979h-.002l-.003.001-.007.002-.016.003a1.723 1.723 0 0 0-.149.041 3.718 3.718 0 0 0-.336.125 6.758 6.758 0 0 0-1.098.605c-.642.426-1.447 1.079-2.379 2.074-.932-.995-1.737-1.648-2.379-2.074A6.758 6.758 0 0 0 6.468.232a3.716 3.716 0 0 0-.485-.166L5.967.063 5.96.06h-.004C5.955.06 5.954.06 5.75 1.038l.204-.98-.02-.003-.02-.004C3.827-.296 2.435 1.15 2.25 2.688c-.061.506.004 1.04.223 1.532H1.1A1.1 1.1 0 0 0 0 5.32v4.04a1.1 1.1 0 0 0 1.1 1.1h.121v8.162a1.1 1.1 0 0 0 1.1 1.1h15.398a1.1 1.1 0 0 0 1.1-1.1V10.46a1.1 1.1 0 0 0 1.075-1.1V5.32a1.1 1.1 0 0 0-1.1-1.1h-1.376c.22-.491.285-1.026.224-1.532-.186-1.54-1.578-2.984-3.666-2.636l-.02.004-.02.004Zm1.72 2.868c-.064-.526-.495-1.025-1.307-.91a1.802 1.802 0 0 0-.149.057 4.789 4.789 0 0 0-.769.428c-.435.288-1.011.74-1.704 1.44H14.398c.634 0 .934-.197 1.07-.348.146-.162.22-.396.188-.667Zm-10.114-.91c-.813-.115-1.244.384-1.307.91-.033.271.041.505.187.667.137.151.437.349 1.07.349H8.164c-.692-.7-1.269-1.152-1.704-1.441a4.787 4.787 0 0 0-.77-.428 1.802 1.802 0 0 0-.147-.057Zm5.25 8.442h-1.84v7.262h1.84V10.46Zm0-2h-1.84V6.22h1.84v2.24Zm2 2v7.262h4.027V10.46h-4.027Zm0-2V6.22h5.102v2.24h-5.102Zm-5.84 0V6.22H2v2.24h4.951Zm0 9.262V10.46H3.22v7.262h3.73Z\" fill-rule=\"evenodd\"></path></g><defs><clippath id=\"a\"><path d=\"M0 0h20v20H0z\" fill=\"#fff\"></path></clippath></defs></svg><p>Great gifter</p></div></p>,\n",
       " <p>Great gifter</p>,\n",
       " <p class=\"g4stNEuC7iBkrzKInLdD\">$18.49</p>,\n",
       " <p class=\"AU3_J2S61MQzohobRI2x\">Gopuff Liquor &amp; More - Charlotte Center City</p>,\n",
       " <p>$14.95 store minimum + $4.99 Delivery Fee</p>,\n",
       " <p>60 min</p>,\n",
       " <p class=\"g4stNEuC7iBkrzKInLdD\">$12.99</p>,\n",
       " <p class=\"AU3_J2S61MQzohobRI2x\">Overstreet Market</p>,\n",
       " <p>$24.99 store minimum + $4.99 Delivery Fee</p>,\n",
       " <p>60 min</p>,\n",
       " <p>© Drizly All Rights Reserved</p>,\n",
       " <p class=\"JsM8E4OtcgPux9g3d0BY\">Welcome to Drizly</p>,\n",
       " <p class=\"UuIVP67CH3XUj_fKOFKN\">Are you 21 or older?</p>,\n",
       " <p class=\"i290vC7WYw4R4u8lmSHJ\">You can’t spell “safe and responsible drinking culture” without “ID or else.”</p>,\n",
       " <p class=\"ot-acc-grpdesc ot-category-desc\" id=\"ot-desc-id-C0004\">These cookies may be set through our site by our advertising partners. They may be used by those companies to build a profile of your interests and show you relevant adverts on other sites.    They do not store directly personal information, but are based on uniquely identifying your browser and internet device. If you do not allow these cookies, you will experience less targeted advertising.</p>,\n",
       " <p class=\"ot-acc-grpdesc ot-category-desc\" id=\"ot-desc-id-C0003\">These cookies enable the website to provide enhanced functionality and personalisation. They may be set by us or by third party providers whose services we have added to our pages.    If you do not allow these cookies then some or all of these services may not function properly.</p>,\n",
       " <p class=\"ot-acc-grpdesc ot-category-desc\" id=\"ot-desc-id-C0002\">These cookies allow us to count visits and traffic sources so we can measure and improve the performance of our site. They help us to know which pages are the most and least popular and see how visitors move around the site.    All information these cookies collect is aggregated and therefore anonymous. If you do not allow these cookies we will not know when you have visited our site, and will not be able to monitor its performance.</p>,\n",
       " <p class=\"ot-acc-grpdesc ot-category-desc\" id=\"ot-desc-id-C0001\">These cookies are necessary for the website to function and cannot be switched off in our systems. They are usually only set in response to actions made by you which amount to a request for services, such as setting your privacy preferences, logging in or filling in forms.    You can set your browser to block or alert you about these cookies, but some parts of the site will not then work. These cookies do not store any personally identifiable information.</p>,\n",
       " <p class=\"ot-scrn-rdr\" role=\"status\"></p>]"
      ]
     },
     "execution_count": 22,
     "metadata": {},
     "output_type": "execute_result"
    }
   ],
   "source": [
    "rows = soup.find_all('p')\n",
    "#for i in rows:\n",
    "rows"
   ]
  },
  {
   "cell_type": "code",
   "execution_count": 63,
   "id": "94b99c09",
   "metadata": {},
   "outputs": [
    {
     "data": {
      "text/plain": [
       "<span class=\"w_iUH7\">stars</span>"
      ]
     },
     "execution_count": 63,
     "metadata": {},
     "output_type": "execute_result"
    }
   ],
   "source": [
    "review_list = []\n",
    "rows = soup.find_all(\"li\", class_=\"dib w-100 mb3\")\n",
    "soup.find('span', class_='w_iUH7')"
   ]
  },
  {
   "cell_type": "code",
   "execution_count": 41,
   "id": "57d94386",
   "metadata": {},
   "outputs": [
    {
     "data": {
      "text/plain": [
       "[<span class=\"w_iUH7\">stars</span>,\n",
       " <span class=\"w_iUH7\" id=\"5-65.19607843137256\">532 5 stars reviews, 65.2% of all reviews are rated with 5 stars, Filters the reviews below</span>,\n",
       " <span class=\"w_iUH7\" id=\"4-13.357843137254902\">109 4 stars reviews, 13.4% of all reviews are rated with 4 stars, Filters the reviews below</span>,\n",
       " <span class=\"w_iUH7\" id=\"3-7.352941176470589\">60 3 stars reviews, 7.4% of all reviews are rated with 3 stars, Filters the reviews below</span>,\n",
       " <span class=\"w_iUH7\" id=\"2-3.063725490196078\">25 2 stars reviews, 3.1% of all reviews are rated with 2 stars, Filters the reviews below</span>,\n",
       " <span class=\"w_iUH7\" id=\"1-11.029411764705882\">90 1 star reviews, 11% of all reviews are rated with 1 star, Filters the reviews below</span>,\n",
       " <span class=\"w_iUH7\">4 out of 5 stars review</span>,\n",
       " <span class=\"w_iUH7\">1 out of 5 stars review</span>,\n",
       " <span class=\"w_iUH7\">5 out of 5 stars review</span>,\n",
       " <span class=\"w_iUH7\">5 out of 5 stars review</span>,\n",
       " <span class=\"w_iUH7\">5 out of 5 stars review</span>,\n",
       " <span class=\"w_iUH7\">5 out of 5 stars review</span>,\n",
       " <span class=\"w_iUH7\">5 out of 5 stars review</span>,\n",
       " <span class=\"w_iUH7\">4 out of 5 stars review</span>,\n",
       " <span class=\"w_iUH7\">3 out of 5 stars review</span>,\n",
       " <span class=\"w_iUH7\">3 out of 5 stars review</span>,\n",
       " <span class=\"w_iUH7\">1 out of 5 stars review</span>,\n",
       " <span class=\"w_iUH7\">1 out of 5 stars review</span>,\n",
       " <span class=\"w_iUH7\">4 out of 5 stars review</span>,\n",
       " <span class=\"w_iUH7\">5 out of 5 stars review</span>,\n",
       " <span class=\"w_iUH7\">1 out of 5 stars review</span>,\n",
       " <span class=\"w_iUH7\">5 out of 5 stars review</span>,\n",
       " <span class=\"w_iUH7\">5 out of 5 stars review</span>,\n",
       " <span class=\"w_iUH7\">5 out of 5 stars review</span>,\n",
       " <span class=\"w_iUH7\">1 out of 5 stars review</span>,\n",
       " <span class=\"w_iUH7\">5 out of 5 stars review</span>,\n",
       " <span class=\"w_iUH7\">1 out of 5 stars review</span>,\n",
       " <span class=\"w_iUH7\">5 out of 5 stars review</span>]"
      ]
     },
     "execution_count": 41,
     "metadata": {},
     "output_type": "execute_result"
    }
   ],
   "source": [
    "soup.find_all('span', class_='w_iUH7')"
   ]
  },
  {
   "cell_type": "code",
   "execution_count": null,
   "id": "9afb555b",
   "metadata": {},
   "outputs": [],
   "source": [
    "rows.find('')"
   ]
  },
  {
   "cell_type": "code",
   "execution_count": 72,
   "id": "3d4428c1",
   "metadata": {},
   "outputs": [],
   "source": [
    "review_list = []\n",
    "rows = soup.find_all(\"li\", class_=\"dib w-100 mb3\")\n",
    "\n",
    "for i in rows: \n",
    "    date = i.find('div', class_='f7 gray mt1').text\n",
    "    text = i.find('span', class_='tl-m mb3 db-m').text\n",
    "    stars = i.find('span', class_='w_iUH7').text\n",
    "    review_list.append( {\n",
    "        'date':date,\n",
    "        'text':text,\n",
    "        'stars':stars\n",
    "    } )\n",
    "    "
   ]
  },
  {
   "cell_type": "code",
   "execution_count": 73,
   "id": "4b24e78a",
   "metadata": {},
   "outputs": [
    {
     "data": {
      "text/html": [
       "<div>\n",
       "<style scoped>\n",
       "    .dataframe tbody tr th:only-of-type {\n",
       "        vertical-align: middle;\n",
       "    }\n",
       "\n",
       "    .dataframe tbody tr th {\n",
       "        vertical-align: top;\n",
       "    }\n",
       "\n",
       "    .dataframe thead th {\n",
       "        text-align: right;\n",
       "    }\n",
       "</style>\n",
       "<table border=\"1\" class=\"dataframe\">\n",
       "  <thead>\n",
       "    <tr style=\"text-align: right;\">\n",
       "      <th></th>\n",
       "      <th>date</th>\n",
       "      <th>text</th>\n",
       "      <th>stars</th>\n",
       "    </tr>\n",
       "  </thead>\n",
       "  <tbody>\n",
       "    <tr>\n",
       "      <th>0</th>\n",
       "      <td>1/12/2024</td>\n",
       "      <td>Was a great buy , my daughter loves it</td>\n",
       "      <td>5 out of 5 stars review</td>\n",
       "    </tr>\n",
       "    <tr>\n",
       "      <th>1</th>\n",
       "      <td>12/11/2023</td>\n",
       "      <td>This office chair is just what I needed for my...</td>\n",
       "      <td>5 out of 5 stars review</td>\n",
       "    </tr>\n",
       "    <tr>\n",
       "      <th>2</th>\n",
       "      <td>11/15/2023</td>\n",
       "      <td>Hmmm interesting</td>\n",
       "      <td>5 out of 5 stars review</td>\n",
       "    </tr>\n",
       "    <tr>\n",
       "      <th>3</th>\n",
       "      <td>11/21/2023</td>\n",
       "      <td>This chair is perfect! The design is sleek.  I...</td>\n",
       "      <td>5 out of 5 stars review</td>\n",
       "    </tr>\n",
       "    <tr>\n",
       "      <th>4</th>\n",
       "      <td>10/11/2023</td>\n",
       "      <td>Great chair for the price. Adjust and  firm.</td>\n",
       "      <td>5 out of 5 stars review</td>\n",
       "    </tr>\n",
       "    <tr>\n",
       "      <th>5</th>\n",
       "      <td>1/8/2024</td>\n",
       "      <td>This Office Chair feels sturdy and stylish but...</td>\n",
       "      <td>4 out of 5 stars review</td>\n",
       "    </tr>\n",
       "    <tr>\n",
       "      <th>6</th>\n",
       "      <td>12/20/2023</td>\n",
       "      <td>Decent chair, but one of the bottom holes on t...</td>\n",
       "      <td>3 out of 5 stars review</td>\n",
       "    </tr>\n",
       "    <tr>\n",
       "      <th>7</th>\n",
       "      <td>2/8/2024</td>\n",
       "      <td>The legs of the chair was poking out the box, ...</td>\n",
       "      <td>3 out of 5 stars review</td>\n",
       "    </tr>\n",
       "    <tr>\n",
       "      <th>8</th>\n",
       "      <td>11/24/2023</td>\n",
       "      <td>I received my package unfortunately the box is...</td>\n",
       "      <td>1 out of 5 stars review</td>\n",
       "    </tr>\n",
       "    <tr>\n",
       "      <th>9</th>\n",
       "      <td>8/14/2023</td>\n",
       "      <td>I ordered two chairs and one was not able to b...</td>\n",
       "      <td>1 out of 5 stars review</td>\n",
       "    </tr>\n",
       "    <tr>\n",
       "      <th>10</th>\n",
       "      <td>12/18/2021</td>\n",
       "      <td>I'm sorry I have to say: that I dislike that o...</td>\n",
       "      <td>4 out of 5 stars review</td>\n",
       "    </tr>\n",
       "    <tr>\n",
       "      <th>11</th>\n",
       "      <td>7/16/2023</td>\n",
       "      <td>Good 👍</td>\n",
       "      <td>5 out of 5 stars review</td>\n",
       "    </tr>\n",
       "    <tr>\n",
       "      <th>12</th>\n",
       "      <td>2/10/2024</td>\n",
       "      <td>Parts are too thin for an average sized man, m...</td>\n",
       "      <td>1 out of 5 stars review</td>\n",
       "    </tr>\n",
       "    <tr>\n",
       "      <th>13</th>\n",
       "      <td>2/13/2024</td>\n",
       "      <td>Nice little chair, it is kinda small although ...</td>\n",
       "      <td>5 out of 5 stars review</td>\n",
       "    </tr>\n",
       "    <tr>\n",
       "      <th>14</th>\n",
       "      <td>1/26/2024</td>\n",
       "      <td>I ordered this chair for my husband, who works...</td>\n",
       "      <td>5 out of 5 stars review</td>\n",
       "    </tr>\n",
       "    <tr>\n",
       "      <th>15</th>\n",
       "      <td>1/31/2024</td>\n",
       "      <td>Decent price compared to a lot of other office...</td>\n",
       "      <td>5 out of 5 stars review</td>\n",
       "    </tr>\n",
       "    <tr>\n",
       "      <th>16</th>\n",
       "      <td>1/22/2024</td>\n",
       "      <td>I ordered this product on Dec. 8th, still have...</td>\n",
       "      <td>1 out of 5 stars review</td>\n",
       "    </tr>\n",
       "    <tr>\n",
       "      <th>17</th>\n",
       "      <td>1/17/2024</td>\n",
       "      <td>I bought this chair for an adult with special ...</td>\n",
       "      <td>5 out of 5 stars review</td>\n",
       "    </tr>\n",
       "    <tr>\n",
       "      <th>18</th>\n",
       "      <td>1/3/2024</td>\n",
       "      <td>I placed an order from  Walmart and my order s...</td>\n",
       "      <td>1 out of 5 stars review</td>\n",
       "    </tr>\n",
       "    <tr>\n",
       "      <th>19</th>\n",
       "      <td>12/12/2023</td>\n",
       "      <td>I love these office chairs. I use them as kitc...</td>\n",
       "      <td>5 out of 5 stars review</td>\n",
       "    </tr>\n",
       "  </tbody>\n",
       "</table>\n",
       "</div>"
      ],
      "text/plain": [
       "          date                                               text  \\\n",
       "0    1/12/2024             Was a great buy , my daughter loves it   \n",
       "1   12/11/2023  This office chair is just what I needed for my...   \n",
       "2   11/15/2023                                   Hmmm interesting   \n",
       "3   11/21/2023  This chair is perfect! The design is sleek.  I...   \n",
       "4   10/11/2023       Great chair for the price. Adjust and  firm.   \n",
       "5     1/8/2024  This Office Chair feels sturdy and stylish but...   \n",
       "6   12/20/2023  Decent chair, but one of the bottom holes on t...   \n",
       "7     2/8/2024  The legs of the chair was poking out the box, ...   \n",
       "8   11/24/2023  I received my package unfortunately the box is...   \n",
       "9    8/14/2023  I ordered two chairs and one was not able to b...   \n",
       "10  12/18/2021  I'm sorry I have to say: that I dislike that o...   \n",
       "11   7/16/2023                                             Good 👍   \n",
       "12   2/10/2024  Parts are too thin for an average sized man, m...   \n",
       "13   2/13/2024  Nice little chair, it is kinda small although ...   \n",
       "14   1/26/2024  I ordered this chair for my husband, who works...   \n",
       "15   1/31/2024  Decent price compared to a lot of other office...   \n",
       "16   1/22/2024  I ordered this product on Dec. 8th, still have...   \n",
       "17   1/17/2024  I bought this chair for an adult with special ...   \n",
       "18    1/3/2024  I placed an order from  Walmart and my order s...   \n",
       "19  12/12/2023  I love these office chairs. I use them as kitc...   \n",
       "\n",
       "                      stars  \n",
       "0   5 out of 5 stars review  \n",
       "1   5 out of 5 stars review  \n",
       "2   5 out of 5 stars review  \n",
       "3   5 out of 5 stars review  \n",
       "4   5 out of 5 stars review  \n",
       "5   4 out of 5 stars review  \n",
       "6   3 out of 5 stars review  \n",
       "7   3 out of 5 stars review  \n",
       "8   1 out of 5 stars review  \n",
       "9   1 out of 5 stars review  \n",
       "10  4 out of 5 stars review  \n",
       "11  5 out of 5 stars review  \n",
       "12  1 out of 5 stars review  \n",
       "13  5 out of 5 stars review  \n",
       "14  5 out of 5 stars review  \n",
       "15  5 out of 5 stars review  \n",
       "16  1 out of 5 stars review  \n",
       "17  5 out of 5 stars review  \n",
       "18  1 out of 5 stars review  \n",
       "19  5 out of 5 stars review  "
      ]
     },
     "execution_count": 73,
     "metadata": {},
     "output_type": "execute_result"
    }
   ],
   "source": [
    "import pandas as pd\n",
    "pd.DataFrame(review_list)"
   ]
  },
  {
   "cell_type": "code",
   "execution_count": 66,
   "id": "588b6e28",
   "metadata": {},
   "outputs": [
    {
     "data": {
      "text/plain": [
       "(20,)"
      ]
     },
     "execution_count": 66,
     "metadata": {},
     "output_type": "execute_result"
    }
   ],
   "source": [
    "import numpy as np\n",
    "np.shape(review_list)"
   ]
  },
  {
   "cell_type": "code",
   "execution_count": null,
   "id": "639df6e6",
   "metadata": {},
   "outputs": [],
   "source": []
  },
  {
   "cell_type": "code",
   "execution_count": 10,
   "id": "d57a0a78",
   "metadata": {},
   "outputs": [
    {
     "ename": "AttributeError",
     "evalue": "'NoneType' object has no attribute 'text'",
     "output_type": "error",
     "traceback": [
      "\u001b[1;31m---------------------------------------------------------------------------\u001b[0m",
      "\u001b[1;31mAttributeError\u001b[0m                            Traceback (most recent call last)",
      "Cell \u001b[1;32mIn[10], line 1\u001b[0m\n\u001b[1;32m----> 1\u001b[0m title \u001b[38;5;241m=\u001b[39m soup\u001b[38;5;241m.\u001b[39mtitle\u001b[38;5;241m.\u001b[39mtext\n\u001b[0;32m      2\u001b[0m \u001b[38;5;28mprint\u001b[39m(title)\n",
      "\u001b[1;31mAttributeError\u001b[0m: 'NoneType' object has no attribute 'text'"
     ]
    }
   ],
   "source": [
    "title = soup.title.text\n",
    "print(title)"
   ]
  },
  {
   "cell_type": "code",
   "execution_count": 139,
   "id": "b70022e0",
   "metadata": {},
   "outputs": [
    {
     "ename": "KeyboardInterrupt",
     "evalue": "",
     "output_type": "error",
     "traceback": [
      "\u001b[1;31m---------------------------------------------------------------------------\u001b[0m",
      "\u001b[1;31mConnectionRefusedError\u001b[0m                    Traceback (most recent call last)",
      "File \u001b[1;32m~\\anaconda3\\envs\\bootcampDev\\Lib\\site-packages\\urllib3\\util\\connection.py:85\u001b[0m, in \u001b[0;36mcreate_connection\u001b[1;34m(address, timeout, source_address, socket_options)\u001b[0m\n\u001b[0;32m     84\u001b[0m     sock\u001b[38;5;241m.\u001b[39mbind(source_address)\n\u001b[1;32m---> 85\u001b[0m sock\u001b[38;5;241m.\u001b[39mconnect(sa)\n\u001b[0;32m     86\u001b[0m \u001b[38;5;28;01mreturn\u001b[39;00m sock\n",
      "\u001b[1;31mConnectionRefusedError\u001b[0m: [WinError 10061] No connection could be made because the target machine actively refused it",
      "\nDuring handling of the above exception, another exception occurred:\n",
      "\u001b[1;31mKeyboardInterrupt\u001b[0m                         Traceback (most recent call last)",
      "Cell \u001b[1;32mIn[139], line 1\u001b[0m\n\u001b[1;32m----> 1\u001b[0m browser\u001b[38;5;241m.\u001b[39mquit()\n",
      "File \u001b[1;32m~\\anaconda3\\envs\\bootcampDev\\Lib\\site-packages\\splinter\\driver\\webdriver\\__init__.py:638\u001b[0m, in \u001b[0;36mBaseWebDriver.quit\u001b[1;34m(self)\u001b[0m\n\u001b[0;32m    636\u001b[0m \u001b[38;5;28;01mdef\u001b[39;00m \u001b[38;5;21mquit\u001b[39m(\u001b[38;5;28mself\u001b[39m):  \u001b[38;5;66;03m# NOQA: A003\u001b[39;00m\n\u001b[0;32m    637\u001b[0m     \u001b[38;5;28;01mtry\u001b[39;00m:\n\u001b[1;32m--> 638\u001b[0m         \u001b[38;5;28mself\u001b[39m\u001b[38;5;241m.\u001b[39mdriver\u001b[38;5;241m.\u001b[39mquit()\n\u001b[0;32m    639\u001b[0m     \u001b[38;5;28;01mexcept\u001b[39;00m WebDriverException:\n\u001b[0;32m    640\u001b[0m         \u001b[38;5;28;01mpass\u001b[39;00m\n",
      "File \u001b[1;32m~\\anaconda3\\envs\\bootcampDev\\Lib\\site-packages\\selenium\\webdriver\\chromium\\webdriver.py:183\u001b[0m, in \u001b[0;36mChromiumDriver.quit\u001b[1;34m(self)\u001b[0m\n\u001b[0;32m    181\u001b[0m \u001b[38;5;250m\u001b[39m\u001b[38;5;124;03m\"\"\"Closes the browser and shuts down the ChromiumDriver executable.\"\"\"\u001b[39;00m\n\u001b[0;32m    182\u001b[0m \u001b[38;5;28;01mtry\u001b[39;00m:\n\u001b[1;32m--> 183\u001b[0m     \u001b[38;5;28msuper\u001b[39m()\u001b[38;5;241m.\u001b[39mquit()\n\u001b[0;32m    184\u001b[0m \u001b[38;5;28;01mexcept\u001b[39;00m \u001b[38;5;167;01mException\u001b[39;00m:\n\u001b[0;32m    185\u001b[0m     \u001b[38;5;66;03m# We don't care about the message because something probably has gone wrong\u001b[39;00m\n\u001b[0;32m    186\u001b[0m     \u001b[38;5;28;01mpass\u001b[39;00m\n",
      "File \u001b[1;32m~\\anaconda3\\envs\\bootcampDev\\Lib\\site-packages\\selenium\\webdriver\\remote\\webdriver.py:469\u001b[0m, in \u001b[0;36mWebDriver.quit\u001b[1;34m(self)\u001b[0m\n\u001b[0;32m    461\u001b[0m \u001b[38;5;250m\u001b[39m\u001b[38;5;124;03m\"\"\"Quits the driver and closes every associated window.\u001b[39;00m\n\u001b[0;32m    462\u001b[0m \n\u001b[0;32m    463\u001b[0m \u001b[38;5;124;03m:Usage:\u001b[39;00m\n\u001b[1;32m   (...)\u001b[0m\n\u001b[0;32m    466\u001b[0m \u001b[38;5;124;03m        driver.quit()\u001b[39;00m\n\u001b[0;32m    467\u001b[0m \u001b[38;5;124;03m\"\"\"\u001b[39;00m\n\u001b[0;32m    468\u001b[0m \u001b[38;5;28;01mtry\u001b[39;00m:\n\u001b[1;32m--> 469\u001b[0m     \u001b[38;5;28mself\u001b[39m\u001b[38;5;241m.\u001b[39mexecute(Command\u001b[38;5;241m.\u001b[39mQUIT)\n\u001b[0;32m    470\u001b[0m \u001b[38;5;28;01mfinally\u001b[39;00m:\n\u001b[0;32m    471\u001b[0m     \u001b[38;5;28mself\u001b[39m\u001b[38;5;241m.\u001b[39mstop_client()\n",
      "File \u001b[1;32m~\\anaconda3\\envs\\bootcampDev\\Lib\\site-packages\\selenium\\webdriver\\remote\\webdriver.py:345\u001b[0m, in \u001b[0;36mWebDriver.execute\u001b[1;34m(self, driver_command, params)\u001b[0m\n\u001b[0;32m    342\u001b[0m     \u001b[38;5;28;01melif\u001b[39;00m \u001b[38;5;124m\"\u001b[39m\u001b[38;5;124msessionId\u001b[39m\u001b[38;5;124m\"\u001b[39m \u001b[38;5;129;01mnot\u001b[39;00m \u001b[38;5;129;01min\u001b[39;00m params:\n\u001b[0;32m    343\u001b[0m         params[\u001b[38;5;124m\"\u001b[39m\u001b[38;5;124msessionId\u001b[39m\u001b[38;5;124m\"\u001b[39m] \u001b[38;5;241m=\u001b[39m \u001b[38;5;28mself\u001b[39m\u001b[38;5;241m.\u001b[39msession_id\n\u001b[1;32m--> 345\u001b[0m response \u001b[38;5;241m=\u001b[39m \u001b[38;5;28mself\u001b[39m\u001b[38;5;241m.\u001b[39mcommand_executor\u001b[38;5;241m.\u001b[39mexecute(driver_command, params)\n\u001b[0;32m    346\u001b[0m \u001b[38;5;28;01mif\u001b[39;00m response:\n\u001b[0;32m    347\u001b[0m     \u001b[38;5;28mself\u001b[39m\u001b[38;5;241m.\u001b[39merror_handler\u001b[38;5;241m.\u001b[39mcheck_response(response)\n",
      "File \u001b[1;32m~\\anaconda3\\envs\\bootcampDev\\Lib\\site-packages\\selenium\\webdriver\\remote\\remote_connection.py:302\u001b[0m, in \u001b[0;36mRemoteConnection.execute\u001b[1;34m(self, command, params)\u001b[0m\n\u001b[0;32m    300\u001b[0m trimmed \u001b[38;5;241m=\u001b[39m \u001b[38;5;28mself\u001b[39m\u001b[38;5;241m.\u001b[39m_trim_large_entries(params)\n\u001b[0;32m    301\u001b[0m LOGGER\u001b[38;5;241m.\u001b[39mdebug(\u001b[38;5;124m\"\u001b[39m\u001b[38;5;132;01m%s\u001b[39;00m\u001b[38;5;124m \u001b[39m\u001b[38;5;132;01m%s\u001b[39;00m\u001b[38;5;124m \u001b[39m\u001b[38;5;132;01m%s\u001b[39;00m\u001b[38;5;124m\"\u001b[39m, command_info[\u001b[38;5;241m0\u001b[39m], url, \u001b[38;5;28mstr\u001b[39m(trimmed))\n\u001b[1;32m--> 302\u001b[0m \u001b[38;5;28;01mreturn\u001b[39;00m \u001b[38;5;28mself\u001b[39m\u001b[38;5;241m.\u001b[39m_request(command_info[\u001b[38;5;241m0\u001b[39m], url, body\u001b[38;5;241m=\u001b[39mdata)\n",
      "File \u001b[1;32m~\\anaconda3\\envs\\bootcampDev\\Lib\\site-packages\\splinter\\driver\\webdriver\\remote_connection.py:17\u001b[0m, in \u001b[0;36mpatch_request\u001b[1;34m(self, *args, **kwargs)\u001b[0m\n\u001b[0;32m     15\u001b[0m \u001b[38;5;28;01mfor\u001b[39;00m _ \u001b[38;5;129;01min\u001b[39;00m \u001b[38;5;28mrange\u001b[39m(\u001b[38;5;241m3\u001b[39m):\n\u001b[0;32m     16\u001b[0m     \u001b[38;5;28;01mtry\u001b[39;00m:\n\u001b[1;32m---> 17\u001b[0m         \u001b[38;5;28;01mreturn\u001b[39;00m old_request(\u001b[38;5;28mself\u001b[39m, \u001b[38;5;241m*\u001b[39margs, \u001b[38;5;241m*\u001b[39m\u001b[38;5;241m*\u001b[39mkwargs)\n\u001b[0;32m     18\u001b[0m     \u001b[38;5;28;01mexcept\u001b[39;00m (\u001b[38;5;167;01mOSError\u001b[39;00m, HTTPException, MaxRetryError) \u001b[38;5;28;01mas\u001b[39;00m exc:\n\u001b[0;32m     19\u001b[0m         exception \u001b[38;5;241m=\u001b[39m exc\n",
      "File \u001b[1;32m~\\anaconda3\\envs\\bootcampDev\\Lib\\site-packages\\selenium\\webdriver\\remote\\remote_connection.py:322\u001b[0m, in \u001b[0;36mRemoteConnection._request\u001b[1;34m(self, method, url, body)\u001b[0m\n\u001b[0;32m    319\u001b[0m     body \u001b[38;5;241m=\u001b[39m \u001b[38;5;28;01mNone\u001b[39;00m\n\u001b[0;32m    321\u001b[0m \u001b[38;5;28;01mif\u001b[39;00m \u001b[38;5;28mself\u001b[39m\u001b[38;5;241m.\u001b[39mkeep_alive:\n\u001b[1;32m--> 322\u001b[0m     response \u001b[38;5;241m=\u001b[39m \u001b[38;5;28mself\u001b[39m\u001b[38;5;241m.\u001b[39m_conn\u001b[38;5;241m.\u001b[39mrequest(method, url, body\u001b[38;5;241m=\u001b[39mbody, headers\u001b[38;5;241m=\u001b[39mheaders)\n\u001b[0;32m    323\u001b[0m     statuscode \u001b[38;5;241m=\u001b[39m response\u001b[38;5;241m.\u001b[39mstatus\n\u001b[0;32m    324\u001b[0m \u001b[38;5;28;01melse\u001b[39;00m:\n",
      "File \u001b[1;32m~\\anaconda3\\envs\\bootcampDev\\Lib\\site-packages\\urllib3\\request.py:77\u001b[0m, in \u001b[0;36mRequestMethods.request\u001b[1;34m(self, method, url, fields, headers, **urlopen_kw)\u001b[0m\n\u001b[0;32m     74\u001b[0m urlopen_kw[\u001b[38;5;124m\"\u001b[39m\u001b[38;5;124mrequest_url\u001b[39m\u001b[38;5;124m\"\u001b[39m] \u001b[38;5;241m=\u001b[39m url\n\u001b[0;32m     76\u001b[0m \u001b[38;5;28;01mif\u001b[39;00m method \u001b[38;5;129;01min\u001b[39;00m \u001b[38;5;28mself\u001b[39m\u001b[38;5;241m.\u001b[39m_encode_url_methods:\n\u001b[1;32m---> 77\u001b[0m     \u001b[38;5;28;01mreturn\u001b[39;00m \u001b[38;5;28mself\u001b[39m\u001b[38;5;241m.\u001b[39mrequest_encode_url(\n\u001b[0;32m     78\u001b[0m         method, url, fields\u001b[38;5;241m=\u001b[39mfields, headers\u001b[38;5;241m=\u001b[39mheaders, \u001b[38;5;241m*\u001b[39m\u001b[38;5;241m*\u001b[39murlopen_kw\n\u001b[0;32m     79\u001b[0m     )\n\u001b[0;32m     80\u001b[0m \u001b[38;5;28;01melse\u001b[39;00m:\n\u001b[0;32m     81\u001b[0m     \u001b[38;5;28;01mreturn\u001b[39;00m \u001b[38;5;28mself\u001b[39m\u001b[38;5;241m.\u001b[39mrequest_encode_body(\n\u001b[0;32m     82\u001b[0m         method, url, fields\u001b[38;5;241m=\u001b[39mfields, headers\u001b[38;5;241m=\u001b[39mheaders, \u001b[38;5;241m*\u001b[39m\u001b[38;5;241m*\u001b[39murlopen_kw\n\u001b[0;32m     83\u001b[0m     )\n",
      "File \u001b[1;32m~\\anaconda3\\envs\\bootcampDev\\Lib\\site-packages\\urllib3\\request.py:99\u001b[0m, in \u001b[0;36mRequestMethods.request_encode_url\u001b[1;34m(self, method, url, fields, headers, **urlopen_kw)\u001b[0m\n\u001b[0;32m     96\u001b[0m \u001b[38;5;28;01mif\u001b[39;00m fields:\n\u001b[0;32m     97\u001b[0m     url \u001b[38;5;241m+\u001b[39m\u001b[38;5;241m=\u001b[39m \u001b[38;5;124m\"\u001b[39m\u001b[38;5;124m?\u001b[39m\u001b[38;5;124m\"\u001b[39m \u001b[38;5;241m+\u001b[39m urlencode(fields)\n\u001b[1;32m---> 99\u001b[0m \u001b[38;5;28;01mreturn\u001b[39;00m \u001b[38;5;28mself\u001b[39m\u001b[38;5;241m.\u001b[39murlopen(method, url, \u001b[38;5;241m*\u001b[39m\u001b[38;5;241m*\u001b[39mextra_kw)\n",
      "File \u001b[1;32m~\\anaconda3\\envs\\bootcampDev\\Lib\\site-packages\\urllib3\\poolmanager.py:376\u001b[0m, in \u001b[0;36mPoolManager.urlopen\u001b[1;34m(self, method, url, redirect, **kw)\u001b[0m\n\u001b[0;32m    374\u001b[0m     response \u001b[38;5;241m=\u001b[39m conn\u001b[38;5;241m.\u001b[39murlopen(method, url, \u001b[38;5;241m*\u001b[39m\u001b[38;5;241m*\u001b[39mkw)\n\u001b[0;32m    375\u001b[0m \u001b[38;5;28;01melse\u001b[39;00m:\n\u001b[1;32m--> 376\u001b[0m     response \u001b[38;5;241m=\u001b[39m conn\u001b[38;5;241m.\u001b[39murlopen(method, u\u001b[38;5;241m.\u001b[39mrequest_uri, \u001b[38;5;241m*\u001b[39m\u001b[38;5;241m*\u001b[39mkw)\n\u001b[0;32m    378\u001b[0m redirect_location \u001b[38;5;241m=\u001b[39m redirect \u001b[38;5;129;01mand\u001b[39;00m response\u001b[38;5;241m.\u001b[39mget_redirect_location()\n\u001b[0;32m    379\u001b[0m \u001b[38;5;28;01mif\u001b[39;00m \u001b[38;5;129;01mnot\u001b[39;00m redirect_location:\n",
      "File \u001b[1;32m~\\anaconda3\\envs\\bootcampDev\\Lib\\site-packages\\urllib3\\connectionpool.py:827\u001b[0m, in \u001b[0;36mHTTPConnectionPool.urlopen\u001b[1;34m(self, method, url, body, headers, retries, redirect, assert_same_host, timeout, pool_timeout, release_conn, chunked, body_pos, **response_kw)\u001b[0m\n\u001b[0;32m    822\u001b[0m \u001b[38;5;28;01mif\u001b[39;00m \u001b[38;5;129;01mnot\u001b[39;00m conn:\n\u001b[0;32m    823\u001b[0m     \u001b[38;5;66;03m# Try again\u001b[39;00m\n\u001b[0;32m    824\u001b[0m     log\u001b[38;5;241m.\u001b[39mwarning(\n\u001b[0;32m    825\u001b[0m         \u001b[38;5;124m\"\u001b[39m\u001b[38;5;124mRetrying (\u001b[39m\u001b[38;5;132;01m%r\u001b[39;00m\u001b[38;5;124m) after connection broken by \u001b[39m\u001b[38;5;124m'\u001b[39m\u001b[38;5;132;01m%r\u001b[39;00m\u001b[38;5;124m'\u001b[39m\u001b[38;5;124m: \u001b[39m\u001b[38;5;132;01m%s\u001b[39;00m\u001b[38;5;124m\"\u001b[39m, retries, err, url\n\u001b[0;32m    826\u001b[0m     )\n\u001b[1;32m--> 827\u001b[0m     \u001b[38;5;28;01mreturn\u001b[39;00m \u001b[38;5;28mself\u001b[39m\u001b[38;5;241m.\u001b[39murlopen(\n\u001b[0;32m    828\u001b[0m         method,\n\u001b[0;32m    829\u001b[0m         url,\n\u001b[0;32m    830\u001b[0m         body,\n\u001b[0;32m    831\u001b[0m         headers,\n\u001b[0;32m    832\u001b[0m         retries,\n\u001b[0;32m    833\u001b[0m         redirect,\n\u001b[0;32m    834\u001b[0m         assert_same_host,\n\u001b[0;32m    835\u001b[0m         timeout\u001b[38;5;241m=\u001b[39mtimeout,\n\u001b[0;32m    836\u001b[0m         pool_timeout\u001b[38;5;241m=\u001b[39mpool_timeout,\n\u001b[0;32m    837\u001b[0m         release_conn\u001b[38;5;241m=\u001b[39mrelease_conn,\n\u001b[0;32m    838\u001b[0m         chunked\u001b[38;5;241m=\u001b[39mchunked,\n\u001b[0;32m    839\u001b[0m         body_pos\u001b[38;5;241m=\u001b[39mbody_pos,\n\u001b[0;32m    840\u001b[0m         \u001b[38;5;241m*\u001b[39m\u001b[38;5;241m*\u001b[39mresponse_kw\n\u001b[0;32m    841\u001b[0m     )\n\u001b[0;32m    843\u001b[0m \u001b[38;5;66;03m# Handle redirect?\u001b[39;00m\n\u001b[0;32m    844\u001b[0m redirect_location \u001b[38;5;241m=\u001b[39m redirect \u001b[38;5;129;01mand\u001b[39;00m response\u001b[38;5;241m.\u001b[39mget_redirect_location()\n",
      "File \u001b[1;32m~\\anaconda3\\envs\\bootcampDev\\Lib\\site-packages\\urllib3\\connectionpool.py:715\u001b[0m, in \u001b[0;36mHTTPConnectionPool.urlopen\u001b[1;34m(self, method, url, body, headers, retries, redirect, assert_same_host, timeout, pool_timeout, release_conn, chunked, body_pos, **response_kw)\u001b[0m\n\u001b[0;32m    712\u001b[0m     \u001b[38;5;28mself\u001b[39m\u001b[38;5;241m.\u001b[39m_prepare_proxy(conn)\n\u001b[0;32m    714\u001b[0m \u001b[38;5;66;03m# Make the request on the httplib connection object.\u001b[39;00m\n\u001b[1;32m--> 715\u001b[0m httplib_response \u001b[38;5;241m=\u001b[39m \u001b[38;5;28mself\u001b[39m\u001b[38;5;241m.\u001b[39m_make_request(\n\u001b[0;32m    716\u001b[0m     conn,\n\u001b[0;32m    717\u001b[0m     method,\n\u001b[0;32m    718\u001b[0m     url,\n\u001b[0;32m    719\u001b[0m     timeout\u001b[38;5;241m=\u001b[39mtimeout_obj,\n\u001b[0;32m    720\u001b[0m     body\u001b[38;5;241m=\u001b[39mbody,\n\u001b[0;32m    721\u001b[0m     headers\u001b[38;5;241m=\u001b[39mheaders,\n\u001b[0;32m    722\u001b[0m     chunked\u001b[38;5;241m=\u001b[39mchunked,\n\u001b[0;32m    723\u001b[0m )\n\u001b[0;32m    725\u001b[0m \u001b[38;5;66;03m# If we're going to release the connection in ``finally:``, then\u001b[39;00m\n\u001b[0;32m    726\u001b[0m \u001b[38;5;66;03m# the response doesn't need to know about the connection. Otherwise\u001b[39;00m\n\u001b[0;32m    727\u001b[0m \u001b[38;5;66;03m# it will also try to release it and we'll have a double-release\u001b[39;00m\n\u001b[0;32m    728\u001b[0m \u001b[38;5;66;03m# mess.\u001b[39;00m\n\u001b[0;32m    729\u001b[0m response_conn \u001b[38;5;241m=\u001b[39m conn \u001b[38;5;28;01mif\u001b[39;00m \u001b[38;5;129;01mnot\u001b[39;00m release_conn \u001b[38;5;28;01melse\u001b[39;00m \u001b[38;5;28;01mNone\u001b[39;00m\n",
      "File \u001b[1;32m~\\anaconda3\\envs\\bootcampDev\\Lib\\site-packages\\urllib3\\connectionpool.py:416\u001b[0m, in \u001b[0;36mHTTPConnectionPool._make_request\u001b[1;34m(self, conn, method, url, timeout, chunked, **httplib_request_kw)\u001b[0m\n\u001b[0;32m    414\u001b[0m         conn\u001b[38;5;241m.\u001b[39mrequest_chunked(method, url, \u001b[38;5;241m*\u001b[39m\u001b[38;5;241m*\u001b[39mhttplib_request_kw)\n\u001b[0;32m    415\u001b[0m     \u001b[38;5;28;01melse\u001b[39;00m:\n\u001b[1;32m--> 416\u001b[0m         conn\u001b[38;5;241m.\u001b[39mrequest(method, url, \u001b[38;5;241m*\u001b[39m\u001b[38;5;241m*\u001b[39mhttplib_request_kw)\n\u001b[0;32m    418\u001b[0m \u001b[38;5;66;03m# We are swallowing BrokenPipeError (errno.EPIPE) since the server is\u001b[39;00m\n\u001b[0;32m    419\u001b[0m \u001b[38;5;66;03m# legitimately able to close the connection after sending a valid response.\u001b[39;00m\n\u001b[0;32m    420\u001b[0m \u001b[38;5;66;03m# With this behaviour, the received response is still readable.\u001b[39;00m\n\u001b[0;32m    421\u001b[0m \u001b[38;5;28;01mexcept\u001b[39;00m \u001b[38;5;167;01mBrokenPipeError\u001b[39;00m:\n\u001b[0;32m    422\u001b[0m     \u001b[38;5;66;03m# Python 3\u001b[39;00m\n",
      "File \u001b[1;32m~\\anaconda3\\envs\\bootcampDev\\Lib\\site-packages\\urllib3\\connection.py:244\u001b[0m, in \u001b[0;36mHTTPConnection.request\u001b[1;34m(self, method, url, body, headers)\u001b[0m\n\u001b[0;32m    242\u001b[0m \u001b[38;5;28;01mif\u001b[39;00m \u001b[38;5;124m\"\u001b[39m\u001b[38;5;124muser-agent\u001b[39m\u001b[38;5;124m\"\u001b[39m \u001b[38;5;129;01mnot\u001b[39;00m \u001b[38;5;129;01min\u001b[39;00m (six\u001b[38;5;241m.\u001b[39mensure_str(k\u001b[38;5;241m.\u001b[39mlower()) \u001b[38;5;28;01mfor\u001b[39;00m k \u001b[38;5;129;01min\u001b[39;00m headers):\n\u001b[0;32m    243\u001b[0m     headers[\u001b[38;5;124m\"\u001b[39m\u001b[38;5;124mUser-Agent\u001b[39m\u001b[38;5;124m\"\u001b[39m] \u001b[38;5;241m=\u001b[39m _get_default_user_agent()\n\u001b[1;32m--> 244\u001b[0m \u001b[38;5;28msuper\u001b[39m(HTTPConnection, \u001b[38;5;28mself\u001b[39m)\u001b[38;5;241m.\u001b[39mrequest(method, url, body\u001b[38;5;241m=\u001b[39mbody, headers\u001b[38;5;241m=\u001b[39mheaders)\n",
      "File \u001b[1;32m~\\anaconda3\\envs\\bootcampDev\\Lib\\http\\client.py:1294\u001b[0m, in \u001b[0;36mHTTPConnection.request\u001b[1;34m(self, method, url, body, headers, encode_chunked)\u001b[0m\n\u001b[0;32m   1291\u001b[0m \u001b[38;5;28;01mdef\u001b[39;00m \u001b[38;5;21mrequest\u001b[39m(\u001b[38;5;28mself\u001b[39m, method, url, body\u001b[38;5;241m=\u001b[39m\u001b[38;5;28;01mNone\u001b[39;00m, headers\u001b[38;5;241m=\u001b[39m{}, \u001b[38;5;241m*\u001b[39m,\n\u001b[0;32m   1292\u001b[0m             encode_chunked\u001b[38;5;241m=\u001b[39m\u001b[38;5;28;01mFalse\u001b[39;00m):\n\u001b[0;32m   1293\u001b[0m \u001b[38;5;250m    \u001b[39m\u001b[38;5;124;03m\"\"\"Send a complete request to the server.\"\"\"\u001b[39;00m\n\u001b[1;32m-> 1294\u001b[0m     \u001b[38;5;28mself\u001b[39m\u001b[38;5;241m.\u001b[39m_send_request(method, url, body, headers, encode_chunked)\n",
      "File \u001b[1;32m~\\anaconda3\\envs\\bootcampDev\\Lib\\http\\client.py:1340\u001b[0m, in \u001b[0;36mHTTPConnection._send_request\u001b[1;34m(self, method, url, body, headers, encode_chunked)\u001b[0m\n\u001b[0;32m   1336\u001b[0m \u001b[38;5;28;01mif\u001b[39;00m \u001b[38;5;28misinstance\u001b[39m(body, \u001b[38;5;28mstr\u001b[39m):\n\u001b[0;32m   1337\u001b[0m     \u001b[38;5;66;03m# RFC 2616 Section 3.7.1 says that text default has a\u001b[39;00m\n\u001b[0;32m   1338\u001b[0m     \u001b[38;5;66;03m# default charset of iso-8859-1.\u001b[39;00m\n\u001b[0;32m   1339\u001b[0m     body \u001b[38;5;241m=\u001b[39m _encode(body, \u001b[38;5;124m'\u001b[39m\u001b[38;5;124mbody\u001b[39m\u001b[38;5;124m'\u001b[39m)\n\u001b[1;32m-> 1340\u001b[0m \u001b[38;5;28mself\u001b[39m\u001b[38;5;241m.\u001b[39mendheaders(body, encode_chunked\u001b[38;5;241m=\u001b[39mencode_chunked)\n",
      "File \u001b[1;32m~\\anaconda3\\envs\\bootcampDev\\Lib\\http\\client.py:1289\u001b[0m, in \u001b[0;36mHTTPConnection.endheaders\u001b[1;34m(self, message_body, encode_chunked)\u001b[0m\n\u001b[0;32m   1287\u001b[0m \u001b[38;5;28;01melse\u001b[39;00m:\n\u001b[0;32m   1288\u001b[0m     \u001b[38;5;28;01mraise\u001b[39;00m CannotSendHeader()\n\u001b[1;32m-> 1289\u001b[0m \u001b[38;5;28mself\u001b[39m\u001b[38;5;241m.\u001b[39m_send_output(message_body, encode_chunked\u001b[38;5;241m=\u001b[39mencode_chunked)\n",
      "File \u001b[1;32m~\\anaconda3\\envs\\bootcampDev\\Lib\\http\\client.py:1048\u001b[0m, in \u001b[0;36mHTTPConnection._send_output\u001b[1;34m(self, message_body, encode_chunked)\u001b[0m\n\u001b[0;32m   1046\u001b[0m msg \u001b[38;5;241m=\u001b[39m \u001b[38;5;124mb\u001b[39m\u001b[38;5;124m\"\u001b[39m\u001b[38;5;130;01m\\r\u001b[39;00m\u001b[38;5;130;01m\\n\u001b[39;00m\u001b[38;5;124m\"\u001b[39m\u001b[38;5;241m.\u001b[39mjoin(\u001b[38;5;28mself\u001b[39m\u001b[38;5;241m.\u001b[39m_buffer)\n\u001b[0;32m   1047\u001b[0m \u001b[38;5;28;01mdel\u001b[39;00m \u001b[38;5;28mself\u001b[39m\u001b[38;5;241m.\u001b[39m_buffer[:]\n\u001b[1;32m-> 1048\u001b[0m \u001b[38;5;28mself\u001b[39m\u001b[38;5;241m.\u001b[39msend(msg)\n\u001b[0;32m   1050\u001b[0m \u001b[38;5;28;01mif\u001b[39;00m message_body \u001b[38;5;129;01mis\u001b[39;00m \u001b[38;5;129;01mnot\u001b[39;00m \u001b[38;5;28;01mNone\u001b[39;00m:\n\u001b[0;32m   1051\u001b[0m \n\u001b[0;32m   1052\u001b[0m     \u001b[38;5;66;03m# create a consistent interface to message_body\u001b[39;00m\n\u001b[0;32m   1053\u001b[0m     \u001b[38;5;28;01mif\u001b[39;00m \u001b[38;5;28mhasattr\u001b[39m(message_body, \u001b[38;5;124m'\u001b[39m\u001b[38;5;124mread\u001b[39m\u001b[38;5;124m'\u001b[39m):\n\u001b[0;32m   1054\u001b[0m         \u001b[38;5;66;03m# Let file-like take precedence over byte-like.  This\u001b[39;00m\n\u001b[0;32m   1055\u001b[0m         \u001b[38;5;66;03m# is needed to allow the current position of mmap'ed\u001b[39;00m\n\u001b[0;32m   1056\u001b[0m         \u001b[38;5;66;03m# files to be taken into account.\u001b[39;00m\n",
      "File \u001b[1;32m~\\anaconda3\\envs\\bootcampDev\\Lib\\http\\client.py:986\u001b[0m, in \u001b[0;36mHTTPConnection.send\u001b[1;34m(self, data)\u001b[0m\n\u001b[0;32m    984\u001b[0m \u001b[38;5;28;01mif\u001b[39;00m \u001b[38;5;28mself\u001b[39m\u001b[38;5;241m.\u001b[39msock \u001b[38;5;129;01mis\u001b[39;00m \u001b[38;5;28;01mNone\u001b[39;00m:\n\u001b[0;32m    985\u001b[0m     \u001b[38;5;28;01mif\u001b[39;00m \u001b[38;5;28mself\u001b[39m\u001b[38;5;241m.\u001b[39mauto_open:\n\u001b[1;32m--> 986\u001b[0m         \u001b[38;5;28mself\u001b[39m\u001b[38;5;241m.\u001b[39mconnect()\n\u001b[0;32m    987\u001b[0m     \u001b[38;5;28;01melse\u001b[39;00m:\n\u001b[0;32m    988\u001b[0m         \u001b[38;5;28;01mraise\u001b[39;00m NotConnected()\n",
      "File \u001b[1;32m~\\anaconda3\\envs\\bootcampDev\\Lib\\site-packages\\urllib3\\connection.py:205\u001b[0m, in \u001b[0;36mHTTPConnection.connect\u001b[1;34m(self)\u001b[0m\n\u001b[0;32m    204\u001b[0m \u001b[38;5;28;01mdef\u001b[39;00m \u001b[38;5;21mconnect\u001b[39m(\u001b[38;5;28mself\u001b[39m):\n\u001b[1;32m--> 205\u001b[0m     conn \u001b[38;5;241m=\u001b[39m \u001b[38;5;28mself\u001b[39m\u001b[38;5;241m.\u001b[39m_new_conn()\n\u001b[0;32m    206\u001b[0m     \u001b[38;5;28mself\u001b[39m\u001b[38;5;241m.\u001b[39m_prepare_conn(conn)\n",
      "File \u001b[1;32m~\\anaconda3\\envs\\bootcampDev\\Lib\\site-packages\\urllib3\\connection.py:174\u001b[0m, in \u001b[0;36mHTTPConnection._new_conn\u001b[1;34m(self)\u001b[0m\n\u001b[0;32m    171\u001b[0m     extra_kw[\u001b[38;5;124m\"\u001b[39m\u001b[38;5;124msocket_options\u001b[39m\u001b[38;5;124m\"\u001b[39m] \u001b[38;5;241m=\u001b[39m \u001b[38;5;28mself\u001b[39m\u001b[38;5;241m.\u001b[39msocket_options\n\u001b[0;32m    173\u001b[0m \u001b[38;5;28;01mtry\u001b[39;00m:\n\u001b[1;32m--> 174\u001b[0m     conn \u001b[38;5;241m=\u001b[39m connection\u001b[38;5;241m.\u001b[39mcreate_connection(\n\u001b[0;32m    175\u001b[0m         (\u001b[38;5;28mself\u001b[39m\u001b[38;5;241m.\u001b[39m_dns_host, \u001b[38;5;28mself\u001b[39m\u001b[38;5;241m.\u001b[39mport), \u001b[38;5;28mself\u001b[39m\u001b[38;5;241m.\u001b[39mtimeout, \u001b[38;5;241m*\u001b[39m\u001b[38;5;241m*\u001b[39mextra_kw\n\u001b[0;32m    176\u001b[0m     )\n\u001b[0;32m    178\u001b[0m \u001b[38;5;28;01mexcept\u001b[39;00m SocketTimeout:\n\u001b[0;32m    179\u001b[0m     \u001b[38;5;28;01mraise\u001b[39;00m ConnectTimeoutError(\n\u001b[0;32m    180\u001b[0m         \u001b[38;5;28mself\u001b[39m,\n\u001b[0;32m    181\u001b[0m         \u001b[38;5;124m\"\u001b[39m\u001b[38;5;124mConnection to \u001b[39m\u001b[38;5;132;01m%s\u001b[39;00m\u001b[38;5;124m timed out. (connect timeout=\u001b[39m\u001b[38;5;132;01m%s\u001b[39;00m\u001b[38;5;124m)\u001b[39m\u001b[38;5;124m\"\u001b[39m\n\u001b[0;32m    182\u001b[0m         \u001b[38;5;241m%\u001b[39m (\u001b[38;5;28mself\u001b[39m\u001b[38;5;241m.\u001b[39mhost, \u001b[38;5;28mself\u001b[39m\u001b[38;5;241m.\u001b[39mtimeout),\n\u001b[0;32m    183\u001b[0m     )\n",
      "File \u001b[1;32m~\\anaconda3\\envs\\bootcampDev\\Lib\\site-packages\\urllib3\\util\\connection.py:91\u001b[0m, in \u001b[0;36mcreate_connection\u001b[1;34m(address, timeout, source_address, socket_options)\u001b[0m\n\u001b[0;32m     89\u001b[0m         err \u001b[38;5;241m=\u001b[39m e\n\u001b[0;32m     90\u001b[0m         \u001b[38;5;28;01mif\u001b[39;00m sock \u001b[38;5;129;01mis\u001b[39;00m \u001b[38;5;129;01mnot\u001b[39;00m \u001b[38;5;28;01mNone\u001b[39;00m:\n\u001b[1;32m---> 91\u001b[0m             sock\u001b[38;5;241m.\u001b[39mclose()\n\u001b[0;32m     92\u001b[0m             sock \u001b[38;5;241m=\u001b[39m \u001b[38;5;28;01mNone\u001b[39;00m\n\u001b[0;32m     94\u001b[0m \u001b[38;5;28;01mif\u001b[39;00m err \u001b[38;5;129;01mis\u001b[39;00m \u001b[38;5;129;01mnot\u001b[39;00m \u001b[38;5;28;01mNone\u001b[39;00m:\n",
      "File \u001b[1;32m~\\anaconda3\\envs\\bootcampDev\\Lib\\socket.py:499\u001b[0m, in \u001b[0;36msocket.close\u001b[1;34m(self)\u001b[0m\n\u001b[0;32m    495\u001b[0m \u001b[38;5;28;01mdef\u001b[39;00m \u001b[38;5;21m_real_close\u001b[39m(\u001b[38;5;28mself\u001b[39m, _ss\u001b[38;5;241m=\u001b[39m_socket\u001b[38;5;241m.\u001b[39msocket):\n\u001b[0;32m    496\u001b[0m     \u001b[38;5;66;03m# This function should not reference any globals. See issue #808164.\u001b[39;00m\n\u001b[0;32m    497\u001b[0m     _ss\u001b[38;5;241m.\u001b[39mclose(\u001b[38;5;28mself\u001b[39m)\n\u001b[1;32m--> 499\u001b[0m \u001b[38;5;28;01mdef\u001b[39;00m \u001b[38;5;21mclose\u001b[39m(\u001b[38;5;28mself\u001b[39m):\n\u001b[0;32m    500\u001b[0m     \u001b[38;5;66;03m# This function should not reference any globals. See issue #808164.\u001b[39;00m\n\u001b[0;32m    501\u001b[0m     \u001b[38;5;28mself\u001b[39m\u001b[38;5;241m.\u001b[39m_closed \u001b[38;5;241m=\u001b[39m \u001b[38;5;28;01mTrue\u001b[39;00m\n\u001b[0;32m    502\u001b[0m     \u001b[38;5;28;01mif\u001b[39;00m \u001b[38;5;28mself\u001b[39m\u001b[38;5;241m.\u001b[39m_io_refs \u001b[38;5;241m<\u001b[39m\u001b[38;5;241m=\u001b[39m \u001b[38;5;241m0\u001b[39m:\n",
      "\u001b[1;31mKeyboardInterrupt\u001b[0m: "
     ]
    }
   ],
   "source": [
    "browser.quit()"
   ]
  }
 ],
 "metadata": {
  "kernelspec": {
   "display_name": "bootcampDev",
   "language": "python",
   "name": "bootcampdev"
  },
  "language_info": {
   "codemirror_mode": {
    "name": "ipython",
    "version": 3
   },
   "file_extension": ".py",
   "mimetype": "text/x-python",
   "name": "python",
   "nbconvert_exporter": "python",
   "pygments_lexer": "ipython3",
   "version": "3.11.7"
  }
 },
 "nbformat": 4,
 "nbformat_minor": 5
}
