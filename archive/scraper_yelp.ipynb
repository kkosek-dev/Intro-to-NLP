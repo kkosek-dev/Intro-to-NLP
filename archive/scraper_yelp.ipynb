{
 "cells": [
  {
   "cell_type": "code",
   "execution_count": 2,
   "id": "4fc572e2",
   "metadata": {},
   "outputs": [],
   "source": [
    "# Dependencies\n",
    "import splinter\n",
    "from splinter import Browser\n",
    "from bs4 import BeautifulSoup\n",
    "import pandas as pd"
   ]
  },
  {
   "cell_type": "code",
   "execution_count": 37,
   "id": "6eded8f4",
   "metadata": {},
   "outputs": [],
   "source": [
    "# Initialize Browser session\n",
    "browser = Browser('chrome')"
   ]
  },
  {
   "cell_type": "code",
   "execution_count": 38,
   "id": "ba3a4350",
   "metadata": {},
   "outputs": [],
   "source": [
    "# Specify an inidividual Walmart link for testing\n",
    "website = 'https://www.yelp.com/biz/bulldog-beer-and-wine-south-end-charlotte'\n",
    "# Visit website in our Browser session\n",
    "browser.visit(website)\n"
   ]
  },
  {
   "cell_type": "code",
   "execution_count": 43,
   "id": "7419656a",
   "metadata": {},
   "outputs": [],
   "source": [
    "browser.find_by_text('36 reviews').click()"
   ]
  },
  {
   "cell_type": "code",
   "execution_count": 44,
   "id": "b47d9b1a",
   "metadata": {},
   "outputs": [],
   "source": [
    "# Scrape the landing page html\n",
    "html = browser.html\n",
    "# Use Beautiful soup to parse the webpage\n",
    "soup = BeautifulSoup(html,\"html.parser\")"
   ]
  },
  {
   "cell_type": "code",
   "execution_count": 46,
   "id": "003971c3",
   "metadata": {},
   "outputs": [
    {
     "data": {
      "text/plain": [
       "[<p class=\"comment__09f24__D0cxf css-qgunke\"><span class=\"raw__09f24__T4Ezm\" lang=\"en\">I thoroughly enjoyed this dive bar.   It has darts, a bunch of draft options, and various drink deals.  It is very divey and has indoor and outdoor seating.    Overall it was a nice reprieve from the busier bars and breweries in the area and we really liked it.</span></p>,\n",
       " <p class=\"comment__09f24__D0cxf css-qgunke\"><span class=\"raw__09f24__T4Ezm\" lang=\"en\">Awesome bar vibes. Place has character. Go early for classic laid back environment or late night for a lively crowd.</span></p>,\n",
       " <p class=\"comment__09f24__D0cxf css-qgunke\"><span class=\"raw__09f24__T4Ezm\" lang=\"en\">So many beers to choose from! This place is great! I was impressed with the huge selection of beers they have on tap. They are always so busy, which is great. The bartenders are really good and there is never much of a wait to get drinks. <br/><br/>It is a dog friendly environment, so bring your friends. Its a very hopping place. A must stop place for good beer and people watching. They even have a small outdoor area for when the weather is good.</span></p>,\n",
       " <p class=\"comment__09f24__D0cxf css-qgunke\"><span class=\"raw__09f24__T4Ezm\" lang=\"en\">There's only one toilet for the woman's bathroom  also the drinks are expensive. There are a lot of young people</span></p>,\n",
       " <p class=\"comment__09f24__D0cxf css-qgunke\"><span class=\"raw__09f24__T4Ezm\" lang=\"en\">Cool bar in South End. Darts, TVs, and a pool table. On Friday night they have live music. They have beer and Prosecco on tap. There are refrigerated cases with other beers and wine. I don't think they have food and there was no food truck in the parking lot. <br/><br/>There are two single stall bathrooms so make sure you don't wait too long before going. <br/><br/>The vibe here is pretty cool. I like this place better than Wooden Robot</span></p>,\n",
       " <p class=\"comment__09f24__D0cxf truncated__09f24__IiW9r css-qgunke\"><span class=\"raw__09f24__T4Ezm\" lang=\"en\">Cool bar in South End. Darts, TVs, and a pool table. On Friday night they have live music. They have been and Prosecco on tap. There are refrigerated cases with other beers and wine. They have FREE POPCORN!<br/><br/>There are two single stall bathrooms so make sure you don't wait too long before going. <br/><br/>The vibe here is pretty cool. I like this place better than Wooden Robot.</span></p>,\n",
       " <p class=\"comment__09f24__D0cxf css-qgunke\"><span class=\"raw__09f24__T4Ezm\" lang=\"en\">Cool bar and bottle shop right across the road from Wooden Robot and walking distance from plenty of other restaurants and bars. This is basically South End still so you can't really ever have too many such places.<br/><br/>For a bottle shop it's actually quite large. It definitely has more of a bar feel. Naturally, there's a ton offered on tap in addition to the many bottles. Several TVs to watch the game(s). Light on the bathrooms - only 3 individual ones. As the name suggests, there are actually a couple of bulldogs in here. I feel kinda bad for the guys though because they're caged up in a loud environment. They've basically become desensitized to people too.<br/><br/>Prices are about what you've come to expect. Unless you find street parking you should plan to walk a bit to get here. I saw a food truck parked less than a block away so food will be easy to come by on busy nights. Most importantly - Golden Cow Creamery isn't far away either.</span></p>,\n",
       " <p class=\"comment__09f24__D0cxf css-qgunke\"><span class=\"raw__09f24__T4Ezm\" lang=\"en\">I have to say I'm a little disappointed in myself that it has taken me this long to write a review of this place. Not only do I come here quite often but it is right next to my apartment! I have long been a fan of this casual hangout. It is a small place that feels like you are hanging out in a friend's garage. They have a free pool table, dart boards, and a personal favorite golden tee. They keep a rotating selection of beers on tap and have recently introduced liquor as well which means they had to become a club. It is only $1.00 to get started and you can just add it to your tab, after that you simply have to put your phone number in each time you come, it is quick and easy! Also if you are looking to pick up a bottle of wine or a case of beer and you can grab some out of the fridge and they will ring you out to go. If you are looking for a laid back atmosphere to have a few drinks with friends then this is the spot for you. Also there is a popcorn machine in the back corner!</span></p>,\n",
       " <p class=\"comment__09f24__D0cxf css-qgunke\"><span class=\"raw__09f24__T4Ezm\" lang=\"en\">Let me start off by saying that I was illegally and fraudulently charged at Bulldog. This <br/><br/>is my first ever review on yelp. So I'm not some crazy person who leaves bad reviews on every time there is bad service. <br/><br/>This was my first time to Bulldog's and it will be my last. We walk in, cool vibe, playing darts, I go to get a drink, there are 2 bartenders. One was really nice and I got 1 drink (my first drink of the night, to clarify I was NOT wasted). I went to get a second beer and the other bartender would NOT take my order. She wouldn't even look me in the eye. At one point I was the only person at the bar trying to get a drink and she just walked away and started to talk to some guys at the end of the bar... cool. So I walked away to see if I could get the other bartenders attention. A group of girls approached me and said \"yea don't even try to get a drink from that one, she refuses to serve females. I don't know what her problem is.\" Ok got it.<br/><br/>I went back up to the bar and after a solid couple of minutes I got her attention. I did not act frustrated or upset, I just simply asked for an East Ciders Original. She then took another guys order and I specificity heard him say it was a Wicked Weed Pernicsomthing or other because I thought it was a weird name. Clearly I'm not a beer girl.<br/><br/>She came back with his beer and not mine. Ok, weird. He was holding out his card to give to her and she grabs my card and his card and goes to get my cider. She comes back with my cider and then swipes my card and asks if I want to close out and I said yes. She then proceeds to give his blue Chase card back to him. Then hands me my card with the receipt. The guy asks \"do I need to sign anything\" and her response was \"no don't worry about it.\" Ok.<br/><br/>I look down at my bill and it has both his beer and my cider on the bill. I nicely confronted her about it and said \"I saw what you just did there and that is not cool. Can i please speak with your manager?\" she said \"I am the manager.\" Yea ok.... So I ask \"Ok well can I have the information of who owns this place?\" she said, \"I own it.\" ...... ok you're lying but that is fine. I didn't cause a scene because it isn't worth it right?<br/><br/>I told her I wanted a refund and she said \"I will refund you but you still need to pay for your cider.\" I told her \"listen, I work in customer service and I literally just watched you WILLINGLY put someone elses drink on my card. On purpose. 100%. I do not want 2 charges from this facility because I do not trust that you will cancel the first payment.\" She wouldn't let it go...<br/><br/>I said fine. It is what it is. I just paid for both beers, left and vowed not to come back. <br/><br/>I am writing this because I took a look at my bank statements and it looks like little miss bartender decided to give herself a $20 tip! So instead of my bill being like $12, it's $32! Again, 100% knowing it was wrong and ILLEGAL she stole more of my money.<br/><br/>That's totally fine. Take my money girl, I truly don't care. I just want everyone who decides to come to Bulldog to please monitor your charges and be mindful (especially if you've been drinking) of your bill at the end of the night as well as the bank statement in the following days when they are closed out.<br/><br/>I still have my receipt from that night.</span></p>,\n",
       " <p class=\"comment__09f24__D0cxf css-qgunke\"><span class=\"raw__09f24__T4Ezm\" lang=\"en\">I'm officially adding Bulldog to my list of favorite taprooms in Southend! So much beer, so little time!<br/><br/>This is a good place to hang out and actually talk with friends - not so loud that you can't hear the people you're talking with!<br/><br/>Twenty plus taps with a really nice diverse selection - a little something for everyone.<br/>Dart boards! Large tap room with Whiskey Barrel tables!<br/><br/>It's pretty laid back in here - like Brad mentioned it feels like a man cave/converted garage.<br/><br/>For me the parking lot wasn't that bad to navigate, but the spots are a little on the \"tight\" side.<br/><br/>There's a retail section with cold and non-refrigerated beer to go. Tonya P would give this place her stamp of approval as they sell bottles of bubbly!<br/><br/>A very short walk from Wooden Robot and Brass Tap. Add this place to your \"to do\" list.</span></p>,\n",
       " <p class=\"comment__09f24__D0cxf css-qgunke\"><span class=\"raw__09f24__T4Ezm\" lang=\"en\">I'm loving everything about Bulldog Beer &amp; Wine! From the adorable bull dogs that greet you when you walk in the door (yes, that's right, bulldogs are IN the house!) to the pleasant bar tenders who are inviting and let you sample all their brews, to the great prices and excellent selection. Whether you're in the mood to play some darts, grab a six pack (or growler) to go or drink one their, Bulldog offers up a dark but local vibe, small patio and lots of standing room (with a mix of high top tables and bar seats). This is a place where the staff will remember your name and you'll want to return to. Cheers to drinking a pint of beer at Bulldog!</span></p>]"
      ]
     },
     "execution_count": 46,
     "metadata": {},
     "output_type": "execute_result"
    }
   ],
   "source": [
    "soup.find_all(\"p\", class_='comment__09f24__D0cxf')"
   ]
  },
  {
   "cell_type": "code",
   "execution_count": 57,
   "id": "d45aa17e",
   "metadata": {},
   "outputs": [
    {
     "name": "stdout",
     "output_type": "stream",
     "text": [
      "4 star rating\n",
      "4.5 star rating\n",
      "5 star rating\n",
      "5 star rating\n",
      "4 star rating\n",
      "3 star rating\n",
      "4 star rating\n",
      "4 star rating\n",
      "4 star rating\n",
      "5 star rating\n",
      "1 star rating\n",
      "4 star rating\n",
      "5 star rating\n",
      "4 star rating\n",
      "3.5 star rating\n",
      "4.5 star rating\n",
      "4.5 star rating\n",
      "4.5 star rating\n",
      "4 star rating\n",
      "5 star rating\n",
      "4.5 star rating\n",
      "4.5 star rating\n",
      "3.5 star rating\n",
      "4 star rating\n",
      "4 star rating\n"
     ]
    }
   ],
   "source": [
    "ratings = soup.find_all(\"div\", class_='css-14g69b3')\n",
    "\n",
    "for i in ratings:\n",
    "    rating=i.get('aria-label')\n",
    "    print(rating)"
   ]
  },
  {
   "cell_type": "code",
   "execution_count": 68,
   "id": "723bfda6",
   "metadata": {},
   "outputs": [
    {
     "name": "stdout",
     "output_type": "stream",
     "text": [
      "11\n",
      "25\n"
     ]
    }
   ],
   "source": [
    "# Initialize empty reviews list\n",
    "review_txt = []\n",
    "review_rating = []\n",
    "# Save all of the review containers into a list object\n",
    "rows = soup.find_all(\"p\", class_='comment__09f24__D0cxf')\n",
    "ratings = soup.find_all(\"div\", class_='css-14g69b3')\n",
    "\n",
    "for i in ratings:\n",
    "    rating = i.get('aria-label')\n",
    "    review_rating.append(rating)\n",
    "\n",
    "# Create a for loop to loop through the containers and pick up the data, text & rating\n",
    "for i in rows: \n",
    "    text = i.find('span', class_='raw__09f24__T4Ezm').text\n",
    "    review_txt.append(text)\n",
    "    \n",
    "    \n",
    "print(len(review_txt))\n",
    "print(len(review_rating))\n",
    "df = pd.DataFrame( {\n",
    "    'text':review_txt,\n",
    "    'stars':review_rating[:11]\n",
    "})"
   ]
  },
  {
   "cell_type": "code",
   "execution_count": 70,
   "id": "f26bf16d",
   "metadata": {},
   "outputs": [
    {
     "data": {
      "text/html": [
       "<div>\n",
       "<style scoped>\n",
       "    .dataframe tbody tr th:only-of-type {\n",
       "        vertical-align: middle;\n",
       "    }\n",
       "\n",
       "    .dataframe tbody tr th {\n",
       "        vertical-align: top;\n",
       "    }\n",
       "\n",
       "    .dataframe thead th {\n",
       "        text-align: right;\n",
       "    }\n",
       "</style>\n",
       "<table border=\"1\" class=\"dataframe\">\n",
       "  <thead>\n",
       "    <tr style=\"text-align: right;\">\n",
       "      <th></th>\n",
       "      <th>text</th>\n",
       "      <th>stars</th>\n",
       "    </tr>\n",
       "  </thead>\n",
       "  <tbody>\n",
       "    <tr>\n",
       "      <th>0</th>\n",
       "      <td>I thoroughly enjoyed this dive bar.   It has d...</td>\n",
       "      <td>4 star rating</td>\n",
       "    </tr>\n",
       "    <tr>\n",
       "      <th>1</th>\n",
       "      <td>Awesome bar vibes. Place has character. Go ear...</td>\n",
       "      <td>4.5 star rating</td>\n",
       "    </tr>\n",
       "    <tr>\n",
       "      <th>2</th>\n",
       "      <td>So many beers to choose from! This place is gr...</td>\n",
       "      <td>5 star rating</td>\n",
       "    </tr>\n",
       "    <tr>\n",
       "      <th>3</th>\n",
       "      <td>There's only one toilet for the woman's bathro...</td>\n",
       "      <td>5 star rating</td>\n",
       "    </tr>\n",
       "    <tr>\n",
       "      <th>4</th>\n",
       "      <td>Cool bar in South End. Darts, TVs, and a pool ...</td>\n",
       "      <td>4 star rating</td>\n",
       "    </tr>\n",
       "    <tr>\n",
       "      <th>5</th>\n",
       "      <td>Cool bar in South End. Darts, TVs, and a pool ...</td>\n",
       "      <td>3 star rating</td>\n",
       "    </tr>\n",
       "    <tr>\n",
       "      <th>6</th>\n",
       "      <td>Cool bar and bottle shop right across the road...</td>\n",
       "      <td>4 star rating</td>\n",
       "    </tr>\n",
       "    <tr>\n",
       "      <th>7</th>\n",
       "      <td>I have to say I'm a little disappointed in mys...</td>\n",
       "      <td>4 star rating</td>\n",
       "    </tr>\n",
       "    <tr>\n",
       "      <th>8</th>\n",
       "      <td>Let me start off by saying that I was illegall...</td>\n",
       "      <td>4 star rating</td>\n",
       "    </tr>\n",
       "    <tr>\n",
       "      <th>9</th>\n",
       "      <td>I'm officially adding Bulldog to my list of fa...</td>\n",
       "      <td>5 star rating</td>\n",
       "    </tr>\n",
       "    <tr>\n",
       "      <th>10</th>\n",
       "      <td>I'm loving everything about Bulldog Beer &amp; Win...</td>\n",
       "      <td>1 star rating</td>\n",
       "    </tr>\n",
       "  </tbody>\n",
       "</table>\n",
       "</div>"
      ],
      "text/plain": [
       "                                                 text            stars\n",
       "0   I thoroughly enjoyed this dive bar.   It has d...    4 star rating\n",
       "1   Awesome bar vibes. Place has character. Go ear...  4.5 star rating\n",
       "2   So many beers to choose from! This place is gr...    5 star rating\n",
       "3   There's only one toilet for the woman's bathro...    5 star rating\n",
       "4   Cool bar in South End. Darts, TVs, and a pool ...    4 star rating\n",
       "5   Cool bar in South End. Darts, TVs, and a pool ...    3 star rating\n",
       "6   Cool bar and bottle shop right across the road...    4 star rating\n",
       "7   I have to say I'm a little disappointed in mys...    4 star rating\n",
       "8   Let me start off by saying that I was illegall...    4 star rating\n",
       "9   I'm officially adding Bulldog to my list of fa...    5 star rating\n",
       "10  I'm loving everything about Bulldog Beer & Win...    1 star rating"
      ]
     },
     "execution_count": 70,
     "metadata": {},
     "output_type": "execute_result"
    }
   ],
   "source": [
    "df[:]"
   ]
  },
  {
   "cell_type": "code",
   "execution_count": 63,
   "id": "caac350d",
   "metadata": {},
   "outputs": [
    {
     "data": {
      "text/plain": [
       "['I thoroughly enjoyed this dive bar.   It has darts, a bunch of draft options, and various drink deals.  It is very divey and has indoor and outdoor seating.    Overall it was a nice reprieve from the busier bars and breweries in the area and we really liked it.',\n",
       " 'Awesome bar vibes. Place has character. Go early for classic laid back environment or late night for a lively crowd.',\n",
       " 'So many beers to choose from! This place is great! I was impressed with the huge selection of beers they have on tap. They are always so busy, which is great. The bartenders are really good and there is never much of a wait to get drinks. It is a dog friendly environment, so bring your friends. Its a very hopping place. A must stop place for good beer and people watching. They even have a small outdoor area for when the weather is good.',\n",
       " \"There's only one toilet for the woman's bathroom  also the drinks are expensive. There are a lot of young people\",\n",
       " \"Cool bar in South End. Darts, TVs, and a pool table. On Friday night they have live music. They have beer and Prosecco on tap. There are refrigerated cases with other beers and wine. I don't think they have food and there was no food truck in the parking lot. There are two single stall bathrooms so make sure you don't wait too long before going. The vibe here is pretty cool. I like this place better than Wooden Robot\",\n",
       " \"Cool bar in South End. Darts, TVs, and a pool table. On Friday night they have live music. They have been and Prosecco on tap. There are refrigerated cases with other beers and wine. They have FREE POPCORN!There are two single stall bathrooms so make sure you don't wait too long before going. The vibe here is pretty cool. I like this place better than Wooden Robot.\",\n",
       " \"Cool bar and bottle shop right across the road from Wooden Robot and walking distance from plenty of other restaurants and bars. This is basically South End still so you can't really ever have too many such places.For a bottle shop it's actually quite large. It definitely has more of a bar feel. Naturally, there's a ton offered on tap in addition to the many bottles. Several TVs to watch the game(s). Light on the bathrooms - only 3 individual ones. As the name suggests, there are actually a couple of bulldogs in here. I feel kinda bad for the guys though because they're caged up in a loud environment. They've basically become desensitized to people too.Prices are about what you've come to expect. Unless you find street parking you should plan to walk a bit to get here. I saw a food truck parked less than a block away so food will be easy to come by on busy nights. Most importantly - Golden Cow Creamery isn't far away either.\",\n",
       " \"I have to say I'm a little disappointed in myself that it has taken me this long to write a review of this place. Not only do I come here quite often but it is right next to my apartment! I have long been a fan of this casual hangout. It is a small place that feels like you are hanging out in a friend's garage. They have a free pool table, dart boards, and a personal favorite golden tee. They keep a rotating selection of beers on tap and have recently introduced liquor as well which means they had to become a club. It is only $1.00 to get started and you can just add it to your tab, after that you simply have to put your phone number in each time you come, it is quick and easy! Also if you are looking to pick up a bottle of wine or a case of beer and you can grab some out of the fridge and they will ring you out to go. If you are looking for a laid back atmosphere to have a few drinks with friends then this is the spot for you. Also there is a popcorn machine in the back corner!\",\n",
       " 'Let me start off by saying that I was illegally and fraudulently charged at Bulldog. This is my first ever review on yelp. So I\\'m not some crazy person who leaves bad reviews on every time there is bad service. This was my first time to Bulldog\\'s and it will be my last. We walk in, cool vibe, playing darts, I go to get a drink, there are 2 bartenders. One was really nice and I got 1 drink (my first drink of the night, to clarify I was NOT wasted). I went to get a second beer and the other bartender would NOT take my order. She wouldn\\'t even look me in the eye. At one point I was the only person at the bar trying to get a drink and she just walked away and started to talk to some guys at the end of the bar... cool. So I walked away to see if I could get the other bartenders attention. A group of girls approached me and said \"yea don\\'t even try to get a drink from that one, she refuses to serve females. I don\\'t know what her problem is.\" Ok got it.I went back up to the bar and after a solid couple of minutes I got her attention. I did not act frustrated or upset, I just simply asked for an East Ciders Original. She then took another guys order and I specificity heard him say it was a Wicked Weed Pernicsomthing or other because I thought it was a weird name. Clearly I\\'m not a beer girl.She came back with his beer and not mine. Ok, weird. He was holding out his card to give to her and she grabs my card and his card and goes to get my cider. She comes back with my cider and then swipes my card and asks if I want to close out and I said yes. She then proceeds to give his blue Chase card back to him. Then hands me my card with the receipt. The guy asks \"do I need to sign anything\" and her response was \"no don\\'t worry about it.\" Ok.I look down at my bill and it has both his beer and my cider on the bill. I nicely confronted her about it and said \"I saw what you just did there and that is not cool. Can i please speak with your manager?\" she said \"I am the manager.\" Yea ok.... So I ask \"Ok well can I have the information of who owns this place?\" she said, \"I own it.\" ...... ok you\\'re lying but that is fine. I didn\\'t cause a scene because it isn\\'t worth it right?I told her I wanted a refund and she said \"I will refund you but you still need to pay for your cider.\" I told her \"listen, I work in customer service and I literally just watched you WILLINGLY put someone elses drink on my card. On purpose. 100%. I do not want 2 charges from this facility because I do not trust that you will cancel the first payment.\" She wouldn\\'t let it go...I said fine. It is what it is. I just paid for both beers, left and vowed not to come back. I am writing this because I took a look at my bank statements and it looks like little miss bartender decided to give herself a $20 tip! So instead of my bill being like $12, it\\'s $32! Again, 100% knowing it was wrong and ILLEGAL she stole more of my money.That\\'s totally fine. Take my money girl, I truly don\\'t care. I just want everyone who decides to come to Bulldog to please monitor your charges and be mindful (especially if you\\'ve been drinking) of your bill at the end of the night as well as the bank statement in the following days when they are closed out.I still have my receipt from that night.',\n",
       " 'I\\'m officially adding Bulldog to my list of favorite taprooms in Southend! So much beer, so little time!This is a good place to hang out and actually talk with friends - not so loud that you can\\'t hear the people you\\'re talking with!Twenty plus taps with a really nice diverse selection - a little something for everyone.Dart boards! Large tap room with Whiskey Barrel tables!It\\'s pretty laid back in here - like Brad mentioned it feels like a man cave/converted garage.For me the parking lot wasn\\'t that bad to navigate, but the spots are a little on the \"tight\" side.There\\'s a retail section with cold and non-refrigerated beer to go. Tonya P would give this place her stamp of approval as they sell bottles of bubbly!A very short walk from Wooden Robot and Brass Tap. Add this place to your \"to do\" list.',\n",
       " \"I'm loving everything about Bulldog Beer & Wine! From the adorable bull dogs that greet you when you walk in the door (yes, that's right, bulldogs are IN the house!) to the pleasant bar tenders who are inviting and let you sample all their brews, to the great prices and excellent selection. Whether you're in the mood to play some darts, grab a six pack (or growler) to go or drink one their, Bulldog offers up a dark but local vibe, small patio and lots of standing room (with a mix of high top tables and bar seats). This is a place where the staff will remember your name and you'll want to return to. Cheers to drinking a pint of beer at Bulldog!\"]"
      ]
     },
     "execution_count": 63,
     "metadata": {},
     "output_type": "execute_result"
    }
   ],
   "source": [
    "review_txt"
   ]
  },
  {
   "cell_type": "code",
   "execution_count": 64,
   "id": "bca242b0",
   "metadata": {},
   "outputs": [
    {
     "data": {
      "text/plain": [
       "['4 star rating',\n",
       " '4.5 star rating',\n",
       " '5 star rating',\n",
       " '5 star rating',\n",
       " '4 star rating',\n",
       " '3 star rating',\n",
       " '4 star rating',\n",
       " '4 star rating',\n",
       " '4 star rating',\n",
       " '5 star rating',\n",
       " '1 star rating',\n",
       " '4 star rating',\n",
       " '5 star rating',\n",
       " '4 star rating',\n",
       " '3.5 star rating',\n",
       " '4.5 star rating',\n",
       " '4.5 star rating',\n",
       " '4.5 star rating',\n",
       " '4 star rating',\n",
       " '5 star rating',\n",
       " '4.5 star rating',\n",
       " '4.5 star rating',\n",
       " '3.5 star rating',\n",
       " '4 star rating',\n",
       " '4 star rating']"
      ]
     },
     "execution_count": 64,
     "metadata": {},
     "output_type": "execute_result"
    }
   ],
   "source": [
    "review_rating"
   ]
  },
  {
   "cell_type": "code",
   "execution_count": 59,
   "id": "ab1263a1",
   "metadata": {},
   "outputs": [
    {
     "data": {
      "text/plain": [
       "{'text': 'I thoroughly enjoyed this dive bar.   It has darts, a bunch of draft options, and various drink deals.  It is very divey and has indoor and outdoor seating.    Overall it was a nice reprieve from the busier bars and breweries in the area and we really liked it.',\n",
       " 'stars': None}"
      ]
     },
     "execution_count": 59,
     "metadata": {},
     "output_type": "execute_result"
    }
   ],
   "source": [
    "df"
   ]
  },
  {
   "cell_type": "code",
   "execution_count": null,
   "id": "772edc46",
   "metadata": {},
   "outputs": [],
   "source": []
  },
  {
   "cell_type": "code",
   "execution_count": 6,
   "id": "29f57b24",
   "metadata": {},
   "outputs": [
    {
     "data": {
      "text/html": [
       "<div>\n",
       "<style scoped>\n",
       "    .dataframe tbody tr th:only-of-type {\n",
       "        vertical-align: middle;\n",
       "    }\n",
       "\n",
       "    .dataframe tbody tr th {\n",
       "        vertical-align: top;\n",
       "    }\n",
       "\n",
       "    .dataframe thead th {\n",
       "        text-align: right;\n",
       "    }\n",
       "</style>\n",
       "<table border=\"1\" class=\"dataframe\">\n",
       "  <thead>\n",
       "    <tr style=\"text-align: right;\">\n",
       "      <th></th>\n",
       "    </tr>\n",
       "  </thead>\n",
       "  <tbody>\n",
       "  </tbody>\n",
       "</table>\n",
       "</div>"
      ],
      "text/plain": [
       "Empty DataFrame\n",
       "Columns: []\n",
       "Index: []"
      ]
     },
     "execution_count": 6,
     "metadata": {},
     "output_type": "execute_result"
    }
   ],
   "source": [
    "# Create a DataFrame to visualize our scraped data\n",
    "pd.DataFrame(review_list)"
   ]
  },
  {
   "cell_type": "code",
   "execution_count": 66,
   "id": "399c5a55",
   "metadata": {},
   "outputs": [
    {
     "data": {
      "text/plain": [
       "(20,)"
      ]
     },
     "execution_count": 66,
     "metadata": {},
     "output_type": "execute_result"
    }
   ],
   "source": [
    "# Shape info\n",
    "import numpy as np\n",
    "np.shape(review_list)"
   ]
  },
  {
   "cell_type": "code",
   "execution_count": null,
   "id": "98ba3295",
   "metadata": {},
   "outputs": [],
   "source": [
    "# Compile lists with websites for this method to loop through and scrape info\n"
   ]
  },
  {
   "cell_type": "code",
   "execution_count": 72,
   "id": "b70022e0",
   "metadata": {},
   "outputs": [
    {
     "ename": "KeyboardInterrupt",
     "evalue": "",
     "output_type": "error",
     "traceback": [
      "\u001b[1;31m---------------------------------------------------------------------------\u001b[0m",
      "\u001b[1;31mConnectionRefusedError\u001b[0m                    Traceback (most recent call last)",
      "File \u001b[1;32m~\\anaconda3\\envs\\bootcampDev\\Lib\\site-packages\\urllib3\\util\\connection.py:85\u001b[0m, in \u001b[0;36mcreate_connection\u001b[1;34m(address, timeout, source_address, socket_options)\u001b[0m\n\u001b[0;32m     84\u001b[0m     sock\u001b[38;5;241m.\u001b[39mbind(source_address)\n\u001b[1;32m---> 85\u001b[0m sock\u001b[38;5;241m.\u001b[39mconnect(sa)\n\u001b[0;32m     86\u001b[0m \u001b[38;5;28;01mreturn\u001b[39;00m sock\n",
      "\u001b[1;31mConnectionRefusedError\u001b[0m: [WinError 10061] No connection could be made because the target machine actively refused it",
      "\nDuring handling of the above exception, another exception occurred:\n",
      "\u001b[1;31mKeyboardInterrupt\u001b[0m                         Traceback (most recent call last)",
      "Cell \u001b[1;32mIn[72], line 2\u001b[0m\n\u001b[0;32m      1\u001b[0m \u001b[38;5;66;03m# End session\u001b[39;00m\n\u001b[1;32m----> 2\u001b[0m browser\u001b[38;5;241m.\u001b[39mquit()\n",
      "File \u001b[1;32m~\\anaconda3\\envs\\bootcampDev\\Lib\\site-packages\\splinter\\driver\\webdriver\\__init__.py:638\u001b[0m, in \u001b[0;36mBaseWebDriver.quit\u001b[1;34m(self)\u001b[0m\n\u001b[0;32m    636\u001b[0m \u001b[38;5;28;01mdef\u001b[39;00m \u001b[38;5;21mquit\u001b[39m(\u001b[38;5;28mself\u001b[39m):  \u001b[38;5;66;03m# NOQA: A003\u001b[39;00m\n\u001b[0;32m    637\u001b[0m     \u001b[38;5;28;01mtry\u001b[39;00m:\n\u001b[1;32m--> 638\u001b[0m         \u001b[38;5;28mself\u001b[39m\u001b[38;5;241m.\u001b[39mdriver\u001b[38;5;241m.\u001b[39mquit()\n\u001b[0;32m    639\u001b[0m     \u001b[38;5;28;01mexcept\u001b[39;00m WebDriverException:\n\u001b[0;32m    640\u001b[0m         \u001b[38;5;28;01mpass\u001b[39;00m\n",
      "File \u001b[1;32m~\\anaconda3\\envs\\bootcampDev\\Lib\\site-packages\\selenium\\webdriver\\chromium\\webdriver.py:183\u001b[0m, in \u001b[0;36mChromiumDriver.quit\u001b[1;34m(self)\u001b[0m\n\u001b[0;32m    181\u001b[0m \u001b[38;5;250m\u001b[39m\u001b[38;5;124;03m\"\"\"Closes the browser and shuts down the ChromiumDriver executable.\"\"\"\u001b[39;00m\n\u001b[0;32m    182\u001b[0m \u001b[38;5;28;01mtry\u001b[39;00m:\n\u001b[1;32m--> 183\u001b[0m     \u001b[38;5;28msuper\u001b[39m()\u001b[38;5;241m.\u001b[39mquit()\n\u001b[0;32m    184\u001b[0m \u001b[38;5;28;01mexcept\u001b[39;00m \u001b[38;5;167;01mException\u001b[39;00m:\n\u001b[0;32m    185\u001b[0m     \u001b[38;5;66;03m# We don't care about the message because something probably has gone wrong\u001b[39;00m\n\u001b[0;32m    186\u001b[0m     \u001b[38;5;28;01mpass\u001b[39;00m\n",
      "File \u001b[1;32m~\\anaconda3\\envs\\bootcampDev\\Lib\\site-packages\\selenium\\webdriver\\remote\\webdriver.py:469\u001b[0m, in \u001b[0;36mWebDriver.quit\u001b[1;34m(self)\u001b[0m\n\u001b[0;32m    461\u001b[0m \u001b[38;5;250m\u001b[39m\u001b[38;5;124;03m\"\"\"Quits the driver and closes every associated window.\u001b[39;00m\n\u001b[0;32m    462\u001b[0m \n\u001b[0;32m    463\u001b[0m \u001b[38;5;124;03m:Usage:\u001b[39;00m\n\u001b[1;32m   (...)\u001b[0m\n\u001b[0;32m    466\u001b[0m \u001b[38;5;124;03m        driver.quit()\u001b[39;00m\n\u001b[0;32m    467\u001b[0m \u001b[38;5;124;03m\"\"\"\u001b[39;00m\n\u001b[0;32m    468\u001b[0m \u001b[38;5;28;01mtry\u001b[39;00m:\n\u001b[1;32m--> 469\u001b[0m     \u001b[38;5;28mself\u001b[39m\u001b[38;5;241m.\u001b[39mexecute(Command\u001b[38;5;241m.\u001b[39mQUIT)\n\u001b[0;32m    470\u001b[0m \u001b[38;5;28;01mfinally\u001b[39;00m:\n\u001b[0;32m    471\u001b[0m     \u001b[38;5;28mself\u001b[39m\u001b[38;5;241m.\u001b[39mstop_client()\n",
      "File \u001b[1;32m~\\anaconda3\\envs\\bootcampDev\\Lib\\site-packages\\selenium\\webdriver\\remote\\webdriver.py:345\u001b[0m, in \u001b[0;36mWebDriver.execute\u001b[1;34m(self, driver_command, params)\u001b[0m\n\u001b[0;32m    342\u001b[0m     \u001b[38;5;28;01melif\u001b[39;00m \u001b[38;5;124m\"\u001b[39m\u001b[38;5;124msessionId\u001b[39m\u001b[38;5;124m\"\u001b[39m \u001b[38;5;129;01mnot\u001b[39;00m \u001b[38;5;129;01min\u001b[39;00m params:\n\u001b[0;32m    343\u001b[0m         params[\u001b[38;5;124m\"\u001b[39m\u001b[38;5;124msessionId\u001b[39m\u001b[38;5;124m\"\u001b[39m] \u001b[38;5;241m=\u001b[39m \u001b[38;5;28mself\u001b[39m\u001b[38;5;241m.\u001b[39msession_id\n\u001b[1;32m--> 345\u001b[0m response \u001b[38;5;241m=\u001b[39m \u001b[38;5;28mself\u001b[39m\u001b[38;5;241m.\u001b[39mcommand_executor\u001b[38;5;241m.\u001b[39mexecute(driver_command, params)\n\u001b[0;32m    346\u001b[0m \u001b[38;5;28;01mif\u001b[39;00m response:\n\u001b[0;32m    347\u001b[0m     \u001b[38;5;28mself\u001b[39m\u001b[38;5;241m.\u001b[39merror_handler\u001b[38;5;241m.\u001b[39mcheck_response(response)\n",
      "File \u001b[1;32m~\\anaconda3\\envs\\bootcampDev\\Lib\\site-packages\\selenium\\webdriver\\remote\\remote_connection.py:302\u001b[0m, in \u001b[0;36mRemoteConnection.execute\u001b[1;34m(self, command, params)\u001b[0m\n\u001b[0;32m    300\u001b[0m trimmed \u001b[38;5;241m=\u001b[39m \u001b[38;5;28mself\u001b[39m\u001b[38;5;241m.\u001b[39m_trim_large_entries(params)\n\u001b[0;32m    301\u001b[0m LOGGER\u001b[38;5;241m.\u001b[39mdebug(\u001b[38;5;124m\"\u001b[39m\u001b[38;5;132;01m%s\u001b[39;00m\u001b[38;5;124m \u001b[39m\u001b[38;5;132;01m%s\u001b[39;00m\u001b[38;5;124m \u001b[39m\u001b[38;5;132;01m%s\u001b[39;00m\u001b[38;5;124m\"\u001b[39m, command_info[\u001b[38;5;241m0\u001b[39m], url, \u001b[38;5;28mstr\u001b[39m(trimmed))\n\u001b[1;32m--> 302\u001b[0m \u001b[38;5;28;01mreturn\u001b[39;00m \u001b[38;5;28mself\u001b[39m\u001b[38;5;241m.\u001b[39m_request(command_info[\u001b[38;5;241m0\u001b[39m], url, body\u001b[38;5;241m=\u001b[39mdata)\n",
      "File \u001b[1;32m~\\anaconda3\\envs\\bootcampDev\\Lib\\site-packages\\splinter\\driver\\webdriver\\remote_connection.py:17\u001b[0m, in \u001b[0;36mpatch_request\u001b[1;34m(self, *args, **kwargs)\u001b[0m\n\u001b[0;32m     15\u001b[0m \u001b[38;5;28;01mfor\u001b[39;00m _ \u001b[38;5;129;01min\u001b[39;00m \u001b[38;5;28mrange\u001b[39m(\u001b[38;5;241m3\u001b[39m):\n\u001b[0;32m     16\u001b[0m     \u001b[38;5;28;01mtry\u001b[39;00m:\n\u001b[1;32m---> 17\u001b[0m         \u001b[38;5;28;01mreturn\u001b[39;00m old_request(\u001b[38;5;28mself\u001b[39m, \u001b[38;5;241m*\u001b[39margs, \u001b[38;5;241m*\u001b[39m\u001b[38;5;241m*\u001b[39mkwargs)\n\u001b[0;32m     18\u001b[0m     \u001b[38;5;28;01mexcept\u001b[39;00m (\u001b[38;5;167;01mOSError\u001b[39;00m, HTTPException, MaxRetryError) \u001b[38;5;28;01mas\u001b[39;00m exc:\n\u001b[0;32m     19\u001b[0m         exception \u001b[38;5;241m=\u001b[39m exc\n",
      "File \u001b[1;32m~\\anaconda3\\envs\\bootcampDev\\Lib\\site-packages\\selenium\\webdriver\\remote\\remote_connection.py:322\u001b[0m, in \u001b[0;36mRemoteConnection._request\u001b[1;34m(self, method, url, body)\u001b[0m\n\u001b[0;32m    319\u001b[0m     body \u001b[38;5;241m=\u001b[39m \u001b[38;5;28;01mNone\u001b[39;00m\n\u001b[0;32m    321\u001b[0m \u001b[38;5;28;01mif\u001b[39;00m \u001b[38;5;28mself\u001b[39m\u001b[38;5;241m.\u001b[39mkeep_alive:\n\u001b[1;32m--> 322\u001b[0m     response \u001b[38;5;241m=\u001b[39m \u001b[38;5;28mself\u001b[39m\u001b[38;5;241m.\u001b[39m_conn\u001b[38;5;241m.\u001b[39mrequest(method, url, body\u001b[38;5;241m=\u001b[39mbody, headers\u001b[38;5;241m=\u001b[39mheaders)\n\u001b[0;32m    323\u001b[0m     statuscode \u001b[38;5;241m=\u001b[39m response\u001b[38;5;241m.\u001b[39mstatus\n\u001b[0;32m    324\u001b[0m \u001b[38;5;28;01melse\u001b[39;00m:\n",
      "File \u001b[1;32m~\\anaconda3\\envs\\bootcampDev\\Lib\\site-packages\\urllib3\\request.py:77\u001b[0m, in \u001b[0;36mRequestMethods.request\u001b[1;34m(self, method, url, fields, headers, **urlopen_kw)\u001b[0m\n\u001b[0;32m     74\u001b[0m urlopen_kw[\u001b[38;5;124m\"\u001b[39m\u001b[38;5;124mrequest_url\u001b[39m\u001b[38;5;124m\"\u001b[39m] \u001b[38;5;241m=\u001b[39m url\n\u001b[0;32m     76\u001b[0m \u001b[38;5;28;01mif\u001b[39;00m method \u001b[38;5;129;01min\u001b[39;00m \u001b[38;5;28mself\u001b[39m\u001b[38;5;241m.\u001b[39m_encode_url_methods:\n\u001b[1;32m---> 77\u001b[0m     \u001b[38;5;28;01mreturn\u001b[39;00m \u001b[38;5;28mself\u001b[39m\u001b[38;5;241m.\u001b[39mrequest_encode_url(\n\u001b[0;32m     78\u001b[0m         method, url, fields\u001b[38;5;241m=\u001b[39mfields, headers\u001b[38;5;241m=\u001b[39mheaders, \u001b[38;5;241m*\u001b[39m\u001b[38;5;241m*\u001b[39murlopen_kw\n\u001b[0;32m     79\u001b[0m     )\n\u001b[0;32m     80\u001b[0m \u001b[38;5;28;01melse\u001b[39;00m:\n\u001b[0;32m     81\u001b[0m     \u001b[38;5;28;01mreturn\u001b[39;00m \u001b[38;5;28mself\u001b[39m\u001b[38;5;241m.\u001b[39mrequest_encode_body(\n\u001b[0;32m     82\u001b[0m         method, url, fields\u001b[38;5;241m=\u001b[39mfields, headers\u001b[38;5;241m=\u001b[39mheaders, \u001b[38;5;241m*\u001b[39m\u001b[38;5;241m*\u001b[39murlopen_kw\n\u001b[0;32m     83\u001b[0m     )\n",
      "File \u001b[1;32m~\\anaconda3\\envs\\bootcampDev\\Lib\\site-packages\\urllib3\\request.py:99\u001b[0m, in \u001b[0;36mRequestMethods.request_encode_url\u001b[1;34m(self, method, url, fields, headers, **urlopen_kw)\u001b[0m\n\u001b[0;32m     96\u001b[0m \u001b[38;5;28;01mif\u001b[39;00m fields:\n\u001b[0;32m     97\u001b[0m     url \u001b[38;5;241m+\u001b[39m\u001b[38;5;241m=\u001b[39m \u001b[38;5;124m\"\u001b[39m\u001b[38;5;124m?\u001b[39m\u001b[38;5;124m\"\u001b[39m \u001b[38;5;241m+\u001b[39m urlencode(fields)\n\u001b[1;32m---> 99\u001b[0m \u001b[38;5;28;01mreturn\u001b[39;00m \u001b[38;5;28mself\u001b[39m\u001b[38;5;241m.\u001b[39murlopen(method, url, \u001b[38;5;241m*\u001b[39m\u001b[38;5;241m*\u001b[39mextra_kw)\n",
      "File \u001b[1;32m~\\anaconda3\\envs\\bootcampDev\\Lib\\site-packages\\urllib3\\poolmanager.py:376\u001b[0m, in \u001b[0;36mPoolManager.urlopen\u001b[1;34m(self, method, url, redirect, **kw)\u001b[0m\n\u001b[0;32m    374\u001b[0m     response \u001b[38;5;241m=\u001b[39m conn\u001b[38;5;241m.\u001b[39murlopen(method, url, \u001b[38;5;241m*\u001b[39m\u001b[38;5;241m*\u001b[39mkw)\n\u001b[0;32m    375\u001b[0m \u001b[38;5;28;01melse\u001b[39;00m:\n\u001b[1;32m--> 376\u001b[0m     response \u001b[38;5;241m=\u001b[39m conn\u001b[38;5;241m.\u001b[39murlopen(method, u\u001b[38;5;241m.\u001b[39mrequest_uri, \u001b[38;5;241m*\u001b[39m\u001b[38;5;241m*\u001b[39mkw)\n\u001b[0;32m    378\u001b[0m redirect_location \u001b[38;5;241m=\u001b[39m redirect \u001b[38;5;129;01mand\u001b[39;00m response\u001b[38;5;241m.\u001b[39mget_redirect_location()\n\u001b[0;32m    379\u001b[0m \u001b[38;5;28;01mif\u001b[39;00m \u001b[38;5;129;01mnot\u001b[39;00m redirect_location:\n",
      "File \u001b[1;32m~\\anaconda3\\envs\\bootcampDev\\Lib\\site-packages\\urllib3\\connectionpool.py:827\u001b[0m, in \u001b[0;36mHTTPConnectionPool.urlopen\u001b[1;34m(self, method, url, body, headers, retries, redirect, assert_same_host, timeout, pool_timeout, release_conn, chunked, body_pos, **response_kw)\u001b[0m\n\u001b[0;32m    822\u001b[0m \u001b[38;5;28;01mif\u001b[39;00m \u001b[38;5;129;01mnot\u001b[39;00m conn:\n\u001b[0;32m    823\u001b[0m     \u001b[38;5;66;03m# Try again\u001b[39;00m\n\u001b[0;32m    824\u001b[0m     log\u001b[38;5;241m.\u001b[39mwarning(\n\u001b[0;32m    825\u001b[0m         \u001b[38;5;124m\"\u001b[39m\u001b[38;5;124mRetrying (\u001b[39m\u001b[38;5;132;01m%r\u001b[39;00m\u001b[38;5;124m) after connection broken by \u001b[39m\u001b[38;5;124m'\u001b[39m\u001b[38;5;132;01m%r\u001b[39;00m\u001b[38;5;124m'\u001b[39m\u001b[38;5;124m: \u001b[39m\u001b[38;5;132;01m%s\u001b[39;00m\u001b[38;5;124m\"\u001b[39m, retries, err, url\n\u001b[0;32m    826\u001b[0m     )\n\u001b[1;32m--> 827\u001b[0m     \u001b[38;5;28;01mreturn\u001b[39;00m \u001b[38;5;28mself\u001b[39m\u001b[38;5;241m.\u001b[39murlopen(\n\u001b[0;32m    828\u001b[0m         method,\n\u001b[0;32m    829\u001b[0m         url,\n\u001b[0;32m    830\u001b[0m         body,\n\u001b[0;32m    831\u001b[0m         headers,\n\u001b[0;32m    832\u001b[0m         retries,\n\u001b[0;32m    833\u001b[0m         redirect,\n\u001b[0;32m    834\u001b[0m         assert_same_host,\n\u001b[0;32m    835\u001b[0m         timeout\u001b[38;5;241m=\u001b[39mtimeout,\n\u001b[0;32m    836\u001b[0m         pool_timeout\u001b[38;5;241m=\u001b[39mpool_timeout,\n\u001b[0;32m    837\u001b[0m         release_conn\u001b[38;5;241m=\u001b[39mrelease_conn,\n\u001b[0;32m    838\u001b[0m         chunked\u001b[38;5;241m=\u001b[39mchunked,\n\u001b[0;32m    839\u001b[0m         body_pos\u001b[38;5;241m=\u001b[39mbody_pos,\n\u001b[0;32m    840\u001b[0m         \u001b[38;5;241m*\u001b[39m\u001b[38;5;241m*\u001b[39mresponse_kw\n\u001b[0;32m    841\u001b[0m     )\n\u001b[0;32m    843\u001b[0m \u001b[38;5;66;03m# Handle redirect?\u001b[39;00m\n\u001b[0;32m    844\u001b[0m redirect_location \u001b[38;5;241m=\u001b[39m redirect \u001b[38;5;129;01mand\u001b[39;00m response\u001b[38;5;241m.\u001b[39mget_redirect_location()\n",
      "File \u001b[1;32m~\\anaconda3\\envs\\bootcampDev\\Lib\\site-packages\\urllib3\\connectionpool.py:827\u001b[0m, in \u001b[0;36mHTTPConnectionPool.urlopen\u001b[1;34m(self, method, url, body, headers, retries, redirect, assert_same_host, timeout, pool_timeout, release_conn, chunked, body_pos, **response_kw)\u001b[0m\n\u001b[0;32m    822\u001b[0m \u001b[38;5;28;01mif\u001b[39;00m \u001b[38;5;129;01mnot\u001b[39;00m conn:\n\u001b[0;32m    823\u001b[0m     \u001b[38;5;66;03m# Try again\u001b[39;00m\n\u001b[0;32m    824\u001b[0m     log\u001b[38;5;241m.\u001b[39mwarning(\n\u001b[0;32m    825\u001b[0m         \u001b[38;5;124m\"\u001b[39m\u001b[38;5;124mRetrying (\u001b[39m\u001b[38;5;132;01m%r\u001b[39;00m\u001b[38;5;124m) after connection broken by \u001b[39m\u001b[38;5;124m'\u001b[39m\u001b[38;5;132;01m%r\u001b[39;00m\u001b[38;5;124m'\u001b[39m\u001b[38;5;124m: \u001b[39m\u001b[38;5;132;01m%s\u001b[39;00m\u001b[38;5;124m\"\u001b[39m, retries, err, url\n\u001b[0;32m    826\u001b[0m     )\n\u001b[1;32m--> 827\u001b[0m     \u001b[38;5;28;01mreturn\u001b[39;00m \u001b[38;5;28mself\u001b[39m\u001b[38;5;241m.\u001b[39murlopen(\n\u001b[0;32m    828\u001b[0m         method,\n\u001b[0;32m    829\u001b[0m         url,\n\u001b[0;32m    830\u001b[0m         body,\n\u001b[0;32m    831\u001b[0m         headers,\n\u001b[0;32m    832\u001b[0m         retries,\n\u001b[0;32m    833\u001b[0m         redirect,\n\u001b[0;32m    834\u001b[0m         assert_same_host,\n\u001b[0;32m    835\u001b[0m         timeout\u001b[38;5;241m=\u001b[39mtimeout,\n\u001b[0;32m    836\u001b[0m         pool_timeout\u001b[38;5;241m=\u001b[39mpool_timeout,\n\u001b[0;32m    837\u001b[0m         release_conn\u001b[38;5;241m=\u001b[39mrelease_conn,\n\u001b[0;32m    838\u001b[0m         chunked\u001b[38;5;241m=\u001b[39mchunked,\n\u001b[0;32m    839\u001b[0m         body_pos\u001b[38;5;241m=\u001b[39mbody_pos,\n\u001b[0;32m    840\u001b[0m         \u001b[38;5;241m*\u001b[39m\u001b[38;5;241m*\u001b[39mresponse_kw\n\u001b[0;32m    841\u001b[0m     )\n\u001b[0;32m    843\u001b[0m \u001b[38;5;66;03m# Handle redirect?\u001b[39;00m\n\u001b[0;32m    844\u001b[0m redirect_location \u001b[38;5;241m=\u001b[39m redirect \u001b[38;5;129;01mand\u001b[39;00m response\u001b[38;5;241m.\u001b[39mget_redirect_location()\n",
      "File \u001b[1;32m~\\anaconda3\\envs\\bootcampDev\\Lib\\site-packages\\urllib3\\connectionpool.py:715\u001b[0m, in \u001b[0;36mHTTPConnectionPool.urlopen\u001b[1;34m(self, method, url, body, headers, retries, redirect, assert_same_host, timeout, pool_timeout, release_conn, chunked, body_pos, **response_kw)\u001b[0m\n\u001b[0;32m    712\u001b[0m     \u001b[38;5;28mself\u001b[39m\u001b[38;5;241m.\u001b[39m_prepare_proxy(conn)\n\u001b[0;32m    714\u001b[0m \u001b[38;5;66;03m# Make the request on the httplib connection object.\u001b[39;00m\n\u001b[1;32m--> 715\u001b[0m httplib_response \u001b[38;5;241m=\u001b[39m \u001b[38;5;28mself\u001b[39m\u001b[38;5;241m.\u001b[39m_make_request(\n\u001b[0;32m    716\u001b[0m     conn,\n\u001b[0;32m    717\u001b[0m     method,\n\u001b[0;32m    718\u001b[0m     url,\n\u001b[0;32m    719\u001b[0m     timeout\u001b[38;5;241m=\u001b[39mtimeout_obj,\n\u001b[0;32m    720\u001b[0m     body\u001b[38;5;241m=\u001b[39mbody,\n\u001b[0;32m    721\u001b[0m     headers\u001b[38;5;241m=\u001b[39mheaders,\n\u001b[0;32m    722\u001b[0m     chunked\u001b[38;5;241m=\u001b[39mchunked,\n\u001b[0;32m    723\u001b[0m )\n\u001b[0;32m    725\u001b[0m \u001b[38;5;66;03m# If we're going to release the connection in ``finally:``, then\u001b[39;00m\n\u001b[0;32m    726\u001b[0m \u001b[38;5;66;03m# the response doesn't need to know about the connection. Otherwise\u001b[39;00m\n\u001b[0;32m    727\u001b[0m \u001b[38;5;66;03m# it will also try to release it and we'll have a double-release\u001b[39;00m\n\u001b[0;32m    728\u001b[0m \u001b[38;5;66;03m# mess.\u001b[39;00m\n\u001b[0;32m    729\u001b[0m response_conn \u001b[38;5;241m=\u001b[39m conn \u001b[38;5;28;01mif\u001b[39;00m \u001b[38;5;129;01mnot\u001b[39;00m release_conn \u001b[38;5;28;01melse\u001b[39;00m \u001b[38;5;28;01mNone\u001b[39;00m\n",
      "File \u001b[1;32m~\\anaconda3\\envs\\bootcampDev\\Lib\\site-packages\\urllib3\\connectionpool.py:416\u001b[0m, in \u001b[0;36mHTTPConnectionPool._make_request\u001b[1;34m(self, conn, method, url, timeout, chunked, **httplib_request_kw)\u001b[0m\n\u001b[0;32m    414\u001b[0m         conn\u001b[38;5;241m.\u001b[39mrequest_chunked(method, url, \u001b[38;5;241m*\u001b[39m\u001b[38;5;241m*\u001b[39mhttplib_request_kw)\n\u001b[0;32m    415\u001b[0m     \u001b[38;5;28;01melse\u001b[39;00m:\n\u001b[1;32m--> 416\u001b[0m         conn\u001b[38;5;241m.\u001b[39mrequest(method, url, \u001b[38;5;241m*\u001b[39m\u001b[38;5;241m*\u001b[39mhttplib_request_kw)\n\u001b[0;32m    418\u001b[0m \u001b[38;5;66;03m# We are swallowing BrokenPipeError (errno.EPIPE) since the server is\u001b[39;00m\n\u001b[0;32m    419\u001b[0m \u001b[38;5;66;03m# legitimately able to close the connection after sending a valid response.\u001b[39;00m\n\u001b[0;32m    420\u001b[0m \u001b[38;5;66;03m# With this behaviour, the received response is still readable.\u001b[39;00m\n\u001b[0;32m    421\u001b[0m \u001b[38;5;28;01mexcept\u001b[39;00m \u001b[38;5;167;01mBrokenPipeError\u001b[39;00m:\n\u001b[0;32m    422\u001b[0m     \u001b[38;5;66;03m# Python 3\u001b[39;00m\n",
      "File \u001b[1;32m~\\anaconda3\\envs\\bootcampDev\\Lib\\site-packages\\urllib3\\connection.py:244\u001b[0m, in \u001b[0;36mHTTPConnection.request\u001b[1;34m(self, method, url, body, headers)\u001b[0m\n\u001b[0;32m    242\u001b[0m \u001b[38;5;28;01mif\u001b[39;00m \u001b[38;5;124m\"\u001b[39m\u001b[38;5;124muser-agent\u001b[39m\u001b[38;5;124m\"\u001b[39m \u001b[38;5;129;01mnot\u001b[39;00m \u001b[38;5;129;01min\u001b[39;00m (six\u001b[38;5;241m.\u001b[39mensure_str(k\u001b[38;5;241m.\u001b[39mlower()) \u001b[38;5;28;01mfor\u001b[39;00m k \u001b[38;5;129;01min\u001b[39;00m headers):\n\u001b[0;32m    243\u001b[0m     headers[\u001b[38;5;124m\"\u001b[39m\u001b[38;5;124mUser-Agent\u001b[39m\u001b[38;5;124m\"\u001b[39m] \u001b[38;5;241m=\u001b[39m _get_default_user_agent()\n\u001b[1;32m--> 244\u001b[0m \u001b[38;5;28msuper\u001b[39m(HTTPConnection, \u001b[38;5;28mself\u001b[39m)\u001b[38;5;241m.\u001b[39mrequest(method, url, body\u001b[38;5;241m=\u001b[39mbody, headers\u001b[38;5;241m=\u001b[39mheaders)\n",
      "File \u001b[1;32m~\\anaconda3\\envs\\bootcampDev\\Lib\\http\\client.py:1294\u001b[0m, in \u001b[0;36mHTTPConnection.request\u001b[1;34m(self, method, url, body, headers, encode_chunked)\u001b[0m\n\u001b[0;32m   1291\u001b[0m \u001b[38;5;28;01mdef\u001b[39;00m \u001b[38;5;21mrequest\u001b[39m(\u001b[38;5;28mself\u001b[39m, method, url, body\u001b[38;5;241m=\u001b[39m\u001b[38;5;28;01mNone\u001b[39;00m, headers\u001b[38;5;241m=\u001b[39m{}, \u001b[38;5;241m*\u001b[39m,\n\u001b[0;32m   1292\u001b[0m             encode_chunked\u001b[38;5;241m=\u001b[39m\u001b[38;5;28;01mFalse\u001b[39;00m):\n\u001b[0;32m   1293\u001b[0m \u001b[38;5;250m    \u001b[39m\u001b[38;5;124;03m\"\"\"Send a complete request to the server.\"\"\"\u001b[39;00m\n\u001b[1;32m-> 1294\u001b[0m     \u001b[38;5;28mself\u001b[39m\u001b[38;5;241m.\u001b[39m_send_request(method, url, body, headers, encode_chunked)\n",
      "File \u001b[1;32m~\\anaconda3\\envs\\bootcampDev\\Lib\\http\\client.py:1340\u001b[0m, in \u001b[0;36mHTTPConnection._send_request\u001b[1;34m(self, method, url, body, headers, encode_chunked)\u001b[0m\n\u001b[0;32m   1336\u001b[0m \u001b[38;5;28;01mif\u001b[39;00m \u001b[38;5;28misinstance\u001b[39m(body, \u001b[38;5;28mstr\u001b[39m):\n\u001b[0;32m   1337\u001b[0m     \u001b[38;5;66;03m# RFC 2616 Section 3.7.1 says that text default has a\u001b[39;00m\n\u001b[0;32m   1338\u001b[0m     \u001b[38;5;66;03m# default charset of iso-8859-1.\u001b[39;00m\n\u001b[0;32m   1339\u001b[0m     body \u001b[38;5;241m=\u001b[39m _encode(body, \u001b[38;5;124m'\u001b[39m\u001b[38;5;124mbody\u001b[39m\u001b[38;5;124m'\u001b[39m)\n\u001b[1;32m-> 1340\u001b[0m \u001b[38;5;28mself\u001b[39m\u001b[38;5;241m.\u001b[39mendheaders(body, encode_chunked\u001b[38;5;241m=\u001b[39mencode_chunked)\n",
      "File \u001b[1;32m~\\anaconda3\\envs\\bootcampDev\\Lib\\http\\client.py:1289\u001b[0m, in \u001b[0;36mHTTPConnection.endheaders\u001b[1;34m(self, message_body, encode_chunked)\u001b[0m\n\u001b[0;32m   1287\u001b[0m \u001b[38;5;28;01melse\u001b[39;00m:\n\u001b[0;32m   1288\u001b[0m     \u001b[38;5;28;01mraise\u001b[39;00m CannotSendHeader()\n\u001b[1;32m-> 1289\u001b[0m \u001b[38;5;28mself\u001b[39m\u001b[38;5;241m.\u001b[39m_send_output(message_body, encode_chunked\u001b[38;5;241m=\u001b[39mencode_chunked)\n",
      "File \u001b[1;32m~\\anaconda3\\envs\\bootcampDev\\Lib\\http\\client.py:1048\u001b[0m, in \u001b[0;36mHTTPConnection._send_output\u001b[1;34m(self, message_body, encode_chunked)\u001b[0m\n\u001b[0;32m   1046\u001b[0m msg \u001b[38;5;241m=\u001b[39m \u001b[38;5;124mb\u001b[39m\u001b[38;5;124m\"\u001b[39m\u001b[38;5;130;01m\\r\u001b[39;00m\u001b[38;5;130;01m\\n\u001b[39;00m\u001b[38;5;124m\"\u001b[39m\u001b[38;5;241m.\u001b[39mjoin(\u001b[38;5;28mself\u001b[39m\u001b[38;5;241m.\u001b[39m_buffer)\n\u001b[0;32m   1047\u001b[0m \u001b[38;5;28;01mdel\u001b[39;00m \u001b[38;5;28mself\u001b[39m\u001b[38;5;241m.\u001b[39m_buffer[:]\n\u001b[1;32m-> 1048\u001b[0m \u001b[38;5;28mself\u001b[39m\u001b[38;5;241m.\u001b[39msend(msg)\n\u001b[0;32m   1050\u001b[0m \u001b[38;5;28;01mif\u001b[39;00m message_body \u001b[38;5;129;01mis\u001b[39;00m \u001b[38;5;129;01mnot\u001b[39;00m \u001b[38;5;28;01mNone\u001b[39;00m:\n\u001b[0;32m   1051\u001b[0m \n\u001b[0;32m   1052\u001b[0m     \u001b[38;5;66;03m# create a consistent interface to message_body\u001b[39;00m\n\u001b[0;32m   1053\u001b[0m     \u001b[38;5;28;01mif\u001b[39;00m \u001b[38;5;28mhasattr\u001b[39m(message_body, \u001b[38;5;124m'\u001b[39m\u001b[38;5;124mread\u001b[39m\u001b[38;5;124m'\u001b[39m):\n\u001b[0;32m   1054\u001b[0m         \u001b[38;5;66;03m# Let file-like take precedence over byte-like.  This\u001b[39;00m\n\u001b[0;32m   1055\u001b[0m         \u001b[38;5;66;03m# is needed to allow the current position of mmap'ed\u001b[39;00m\n\u001b[0;32m   1056\u001b[0m         \u001b[38;5;66;03m# files to be taken into account.\u001b[39;00m\n",
      "File \u001b[1;32m~\\anaconda3\\envs\\bootcampDev\\Lib\\http\\client.py:986\u001b[0m, in \u001b[0;36mHTTPConnection.send\u001b[1;34m(self, data)\u001b[0m\n\u001b[0;32m    984\u001b[0m \u001b[38;5;28;01mif\u001b[39;00m \u001b[38;5;28mself\u001b[39m\u001b[38;5;241m.\u001b[39msock \u001b[38;5;129;01mis\u001b[39;00m \u001b[38;5;28;01mNone\u001b[39;00m:\n\u001b[0;32m    985\u001b[0m     \u001b[38;5;28;01mif\u001b[39;00m \u001b[38;5;28mself\u001b[39m\u001b[38;5;241m.\u001b[39mauto_open:\n\u001b[1;32m--> 986\u001b[0m         \u001b[38;5;28mself\u001b[39m\u001b[38;5;241m.\u001b[39mconnect()\n\u001b[0;32m    987\u001b[0m     \u001b[38;5;28;01melse\u001b[39;00m:\n\u001b[0;32m    988\u001b[0m         \u001b[38;5;28;01mraise\u001b[39;00m NotConnected()\n",
      "File \u001b[1;32m~\\anaconda3\\envs\\bootcampDev\\Lib\\site-packages\\urllib3\\connection.py:205\u001b[0m, in \u001b[0;36mHTTPConnection.connect\u001b[1;34m(self)\u001b[0m\n\u001b[0;32m    204\u001b[0m \u001b[38;5;28;01mdef\u001b[39;00m \u001b[38;5;21mconnect\u001b[39m(\u001b[38;5;28mself\u001b[39m):\n\u001b[1;32m--> 205\u001b[0m     conn \u001b[38;5;241m=\u001b[39m \u001b[38;5;28mself\u001b[39m\u001b[38;5;241m.\u001b[39m_new_conn()\n\u001b[0;32m    206\u001b[0m     \u001b[38;5;28mself\u001b[39m\u001b[38;5;241m.\u001b[39m_prepare_conn(conn)\n",
      "File \u001b[1;32m~\\anaconda3\\envs\\bootcampDev\\Lib\\site-packages\\urllib3\\connection.py:174\u001b[0m, in \u001b[0;36mHTTPConnection._new_conn\u001b[1;34m(self)\u001b[0m\n\u001b[0;32m    171\u001b[0m     extra_kw[\u001b[38;5;124m\"\u001b[39m\u001b[38;5;124msocket_options\u001b[39m\u001b[38;5;124m\"\u001b[39m] \u001b[38;5;241m=\u001b[39m \u001b[38;5;28mself\u001b[39m\u001b[38;5;241m.\u001b[39msocket_options\n\u001b[0;32m    173\u001b[0m \u001b[38;5;28;01mtry\u001b[39;00m:\n\u001b[1;32m--> 174\u001b[0m     conn \u001b[38;5;241m=\u001b[39m connection\u001b[38;5;241m.\u001b[39mcreate_connection(\n\u001b[0;32m    175\u001b[0m         (\u001b[38;5;28mself\u001b[39m\u001b[38;5;241m.\u001b[39m_dns_host, \u001b[38;5;28mself\u001b[39m\u001b[38;5;241m.\u001b[39mport), \u001b[38;5;28mself\u001b[39m\u001b[38;5;241m.\u001b[39mtimeout, \u001b[38;5;241m*\u001b[39m\u001b[38;5;241m*\u001b[39mextra_kw\n\u001b[0;32m    176\u001b[0m     )\n\u001b[0;32m    178\u001b[0m \u001b[38;5;28;01mexcept\u001b[39;00m SocketTimeout:\n\u001b[0;32m    179\u001b[0m     \u001b[38;5;28;01mraise\u001b[39;00m ConnectTimeoutError(\n\u001b[0;32m    180\u001b[0m         \u001b[38;5;28mself\u001b[39m,\n\u001b[0;32m    181\u001b[0m         \u001b[38;5;124m\"\u001b[39m\u001b[38;5;124mConnection to \u001b[39m\u001b[38;5;132;01m%s\u001b[39;00m\u001b[38;5;124m timed out. (connect timeout=\u001b[39m\u001b[38;5;132;01m%s\u001b[39;00m\u001b[38;5;124m)\u001b[39m\u001b[38;5;124m\"\u001b[39m\n\u001b[0;32m    182\u001b[0m         \u001b[38;5;241m%\u001b[39m (\u001b[38;5;28mself\u001b[39m\u001b[38;5;241m.\u001b[39mhost, \u001b[38;5;28mself\u001b[39m\u001b[38;5;241m.\u001b[39mtimeout),\n\u001b[0;32m    183\u001b[0m     )\n",
      "File \u001b[1;32m~\\anaconda3\\envs\\bootcampDev\\Lib\\site-packages\\urllib3\\util\\connection.py:91\u001b[0m, in \u001b[0;36mcreate_connection\u001b[1;34m(address, timeout, source_address, socket_options)\u001b[0m\n\u001b[0;32m     89\u001b[0m         err \u001b[38;5;241m=\u001b[39m e\n\u001b[0;32m     90\u001b[0m         \u001b[38;5;28;01mif\u001b[39;00m sock \u001b[38;5;129;01mis\u001b[39;00m \u001b[38;5;129;01mnot\u001b[39;00m \u001b[38;5;28;01mNone\u001b[39;00m:\n\u001b[1;32m---> 91\u001b[0m             sock\u001b[38;5;241m.\u001b[39mclose()\n\u001b[0;32m     92\u001b[0m             sock \u001b[38;5;241m=\u001b[39m \u001b[38;5;28;01mNone\u001b[39;00m\n\u001b[0;32m     94\u001b[0m \u001b[38;5;28;01mif\u001b[39;00m err \u001b[38;5;129;01mis\u001b[39;00m \u001b[38;5;129;01mnot\u001b[39;00m \u001b[38;5;28;01mNone\u001b[39;00m:\n",
      "File \u001b[1;32m~\\anaconda3\\envs\\bootcampDev\\Lib\\socket.py:499\u001b[0m, in \u001b[0;36msocket.close\u001b[1;34m(self)\u001b[0m\n\u001b[0;32m    495\u001b[0m \u001b[38;5;28;01mdef\u001b[39;00m \u001b[38;5;21m_real_close\u001b[39m(\u001b[38;5;28mself\u001b[39m, _ss\u001b[38;5;241m=\u001b[39m_socket\u001b[38;5;241m.\u001b[39msocket):\n\u001b[0;32m    496\u001b[0m     \u001b[38;5;66;03m# This function should not reference any globals. See issue #808164.\u001b[39;00m\n\u001b[0;32m    497\u001b[0m     _ss\u001b[38;5;241m.\u001b[39mclose(\u001b[38;5;28mself\u001b[39m)\n\u001b[1;32m--> 499\u001b[0m \u001b[38;5;28;01mdef\u001b[39;00m \u001b[38;5;21mclose\u001b[39m(\u001b[38;5;28mself\u001b[39m):\n\u001b[0;32m    500\u001b[0m     \u001b[38;5;66;03m# This function should not reference any globals. See issue #808164.\u001b[39;00m\n\u001b[0;32m    501\u001b[0m     \u001b[38;5;28mself\u001b[39m\u001b[38;5;241m.\u001b[39m_closed \u001b[38;5;241m=\u001b[39m \u001b[38;5;28;01mTrue\u001b[39;00m\n\u001b[0;32m    502\u001b[0m     \u001b[38;5;28;01mif\u001b[39;00m \u001b[38;5;28mself\u001b[39m\u001b[38;5;241m.\u001b[39m_io_refs \u001b[38;5;241m<\u001b[39m\u001b[38;5;241m=\u001b[39m \u001b[38;5;241m0\u001b[39m:\n",
      "\u001b[1;31mKeyboardInterrupt\u001b[0m: "
     ]
    }
   ],
   "source": [
    "# End session\n",
    "browser.quit()"
   ]
  }
 ],
 "metadata": {
  "kernelspec": {
   "display_name": "bootcampDev",
   "language": "python",
   "name": "bootcampdev"
  },
  "language_info": {
   "codemirror_mode": {
    "name": "ipython",
    "version": 3
   },
   "file_extension": ".py",
   "mimetype": "text/x-python",
   "name": "python",
   "nbconvert_exporter": "python",
   "pygments_lexer": "ipython3",
   "version": "3.11.7"
  }
 },
 "nbformat": 4,
 "nbformat_minor": 5
}
